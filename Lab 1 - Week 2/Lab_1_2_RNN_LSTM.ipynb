{
 "cells": [
  {
   "cell_type": "markdown",
   "metadata": {
    "id": "xsNMVkQGUXmT"
   },
   "source": [
    "#Introduction of Recurrent Neural Network"
   ]
  },
  {
   "cell_type": "markdown",
   "metadata": {
    "id": "6pn6YI3Eu70I"
   },
   "source": [
    "## import all required library"
   ]
  },
  {
   "cell_type": "code",
   "execution_count": 1,
   "metadata": {
    "executionInfo": {
     "elapsed": 6330,
     "status": "ok",
     "timestamp": 1674297949370,
     "user": {
      "displayName": "Yi Cao",
      "userId": "08364686972985899504"
     },
     "user_tz": 0
    },
    "id": "6eou0U7EEoF5"
   },
   "outputs": [],
   "source": [
    "import os\n",
    "import random\n",
    "import numpy as np\n",
    "import pandas as pd\n",
    "import tensorflow as tf\n",
    "from keras.layers import Dense, Embedding, SimpleRNN\n",
    "from keras.models import Sequential\n",
    "from scipy import stats\n",
    "\n",
    "from pprint import pprint\n",
    "from pylab import plt, mpl\n",
    "plt.style.use('seaborn')\n",
    "mpl.rcParams['savefig.dpi'] = 300\n",
    "mpl.rcParams['font.family'] = 'serif'\n",
    "pd.set_option('precision', 4)\n",
    "np.set_printoptions(suppress=True, precision=4)\n",
    "os.environ['PYTHONHASHSEED'] = '0'\n",
    "\n",
    "\n",
    "# These options determine the way floating point numbers are displayed.\n",
    "np.set_printoptions(precision=4, suppress=True)\n",
    "\n",
    "tf.random.set_seed(100)"
   ]
  },
  {
   "cell_type": "markdown",
   "metadata": {
    "id": "CktL7-I2vC57"
   },
   "source": [
    "## define our own functions"
   ]
  },
  {
   "cell_type": "code",
   "execution_count": 2,
   "metadata": {
    "executionInfo": {
     "elapsed": 8,
     "status": "ok",
     "timestamp": 1674297949370,
     "user": {
      "displayName": "Yi Cao",
      "userId": "08364686972985899504"
     },
     "user_tz": 0
    },
    "id": "uM3YxE5wEoF7"
   },
   "outputs": [],
   "source": [
    "def set_seeds(seed=100):\n",
    "    random.seed(seed)\n",
    "    np.random.seed(seed)\n",
    "    tf.random.set_seed(seed)\n",
    "set_seeds()"
   ]
  },
  {
   "cell_type": "markdown",
   "metadata": {
    "id": "bDKKHMxvCJZ8"
   },
   "source": [
    "## Recurrent Neural Network Fundamentals"
   ]
  },
  {
   "cell_type": "code",
   "execution_count": 4,
   "metadata": {
    "colab": {
     "base_uri": "https://localhost:8080/"
    },
    "executionInfo": {
     "elapsed": 193,
     "status": "ok",
     "timestamp": 1674297956917,
     "user": {
      "displayName": "Yi Cao",
      "userId": "08364686972985899504"
     },
     "user_tz": 0
    },
    "id": "IolbiwIbEoF8",
    "outputId": "faa32b22-7a08-4ec7-d206-518c3b46e9af"
   },
   "outputs": [
    {
     "data": {
      "text/plain": [
       "array([ 0,  1,  2,  3,  4,  5,  6,  7,  8,  9, 10, 11, 12, 13, 14, 15, 16,\n",
       "       17, 18, 19, 20, 21, 22, 23, 24, 25, 26, 27, 28, 29, 30, 31, 32, 33,\n",
       "       34, 35, 36, 37, 38, 39, 40, 41, 42, 43, 44, 45, 46, 47, 48, 49, 50,\n",
       "       51, 52, 53, 54, 55, 56, 57, 58, 59, 60, 61, 62, 63, 64, 65, 66, 67,\n",
       "       68, 69, 70, 71, 72, 73, 74, 75, 76, 77, 78, 79, 80, 81, 82, 83, 84,\n",
       "       85, 86, 87, 88, 89, 90, 91, 92, 93, 94, 95, 96, 97, 98, 99])"
      ]
     },
     "execution_count": 4,
     "metadata": {},
     "output_type": "execute_result"
    }
   ],
   "source": [
    "a = np.arange(100)\n",
    "a"
   ]
  },
  {
   "cell_type": "code",
   "execution_count": 5,
   "metadata": {
    "colab": {
     "base_uri": "https://localhost:8080/"
    },
    "executionInfo": {
     "elapsed": 195,
     "status": "ok",
     "timestamp": 1674297960794,
     "user": {
      "displayName": "Yi Cao",
      "userId": "08364686972985899504"
     },
     "user_tz": 0
    },
    "id": "IAE-jzdhEoF9",
    "outputId": "7eeefa94-4c5e-473f-d936-17c3ea75996c"
   },
   "outputs": [
    {
     "data": {
      "text/plain": [
       "(100, 1)"
      ]
     },
     "execution_count": 5,
     "metadata": {},
     "output_type": "execute_result"
    }
   ],
   "source": [
    "a = a.reshape((len(a), -1))\n",
    "a.shape"
   ]
  },
  {
   "cell_type": "code",
   "execution_count": 6,
   "metadata": {
    "colab": {
     "base_uri": "https://localhost:8080/"
    },
    "executionInfo": {
     "elapsed": 6,
     "status": "ok",
     "timestamp": 1674297962799,
     "user": {
      "displayName": "Yi Cao",
      "userId": "08364686972985899504"
     },
     "user_tz": 0
    },
    "id": "IVPK-7c2EoF_",
    "outputId": "c8d4eb58-906c-444e-abbf-58bd9ab552cd"
   },
   "outputs": [
    {
     "data": {
      "text/plain": [
       "array([[0],\n",
       "       [1],\n",
       "       [2],\n",
       "       [3],\n",
       "       [4]])"
      ]
     },
     "execution_count": 6,
     "metadata": {},
     "output_type": "execute_result"
    }
   ],
   "source": [
    "a[:5]"
   ]
  },
  {
   "cell_type": "code",
   "execution_count": 7,
   "metadata": {
    "executionInfo": {
     "elapsed": 2,
     "status": "ok",
     "timestamp": 1674297968236,
     "user": {
      "displayName": "Yi Cao",
      "userId": "08364686972985899504"
     },
     "user_tz": 0
    },
    "id": "yqHRk2PzEoF_"
   },
   "outputs": [],
   "source": [
    "from keras.preprocessing.sequence import TimeseriesGenerator"
   ]
  },
  {
   "cell_type": "code",
   "execution_count": 25,
   "metadata": {
    "colab": {
     "base_uri": "https://localhost:8080/"
    },
    "executionInfo": {
     "elapsed": 185,
     "status": "ok",
     "timestamp": 1674305136915,
     "user": {
      "displayName": "Yi Cao",
      "userId": "08364686972985899504"
     },
     "user_tz": 0
    },
    "id": "_m2EDvjDEoGA",
    "outputId": "be30fd6a-a978-432d-f889-b9c29f732b19"
   },
   "outputs": [
    {
     "name": "stdout",
     "output_type": "stream",
     "text": [
      "[[[0]\n",
      "  [1]\n",
      "  [2]]] => [[3]]\n",
      "[[[1]\n",
      "  [2]\n",
      "  [3]]] => [[4]]\n",
      "[[[2]\n",
      "  [3]\n",
      "  [4]]] => [[5]]\n",
      "[[[3]\n",
      "  [4]\n",
      "  [5]]] => [[6]]\n",
      "[[[4]\n",
      "  [5]\n",
      "  [6]]] => [[7]]\n"
     ]
    }
   ],
   "source": [
    "'''\n",
    "TimeseriesGenerator is to make a time series, i.e., 0,1,2,3,4,5,6,...,99,\n",
    "to lagged data sample and target, such as, \n",
    "if lag=3 (today's stock price is correlated with prices in prior three days)\n",
    "X            y\n",
    "0,1,2 =>     3\n",
    "1,2,3 =>     4\n",
    "2,3,4 =>     5\n",
    "......\n",
    "96,97,98 => 99\n",
    "'''\n",
    "\n",
    "lags = 3\n",
    "g = TimeseriesGenerator(a, a, length=lags, batch_size=1)\n",
    "\n",
    "# to print the first five examples of generated X and y\n",
    "for i in range( np.min( [5, len(g)] ) ):\n",
    "    x,y = g[i]\n",
    "    print('%s => %s' % (x, y))"
   ]
  },
  {
   "cell_type": "code",
   "execution_count": 45,
   "metadata": {
    "executionInfo": {
     "elapsed": 218,
     "status": "ok",
     "timestamp": 1674306161341,
     "user": {
      "displayName": "Yi Cao",
      "userId": "08364686972985899504"
     },
     "user_tz": 0
    },
    "id": "AA_f2_eLEoGB"
   },
   "outputs": [],
   "source": [
    "from keras.models import Sequential\n",
    "from keras.layers import SimpleRNN, LSTM, Dense"
   ]
  },
  {
   "cell_type": "code",
   "execution_count": 46,
   "metadata": {
    "executionInfo": {
     "elapsed": 187,
     "status": "ok",
     "timestamp": 1674306162914,
     "user": {
      "displayName": "Yi Cao",
      "userId": "08364686972985899504"
     },
     "user_tz": 0
    },
    "id": "YzcJiKwLEoGB"
   },
   "outputs": [],
   "source": [
    "model = Sequential()\n",
    "\n",
    "# SimpleRNN is the basic structure of recurrent neural network with no gates\n",
    "model.add(SimpleRNN(100, activation='relu',\n",
    "                    input_shape=(lags, 1)))\n",
    "model.add(Dense(1, activation='linear'))\n",
    "\n",
    "model.compile(optimizer='adagrad', loss='mse',\n",
    "              metrics=['mae'])"
   ]
  },
  {
   "cell_type": "code",
   "execution_count": 47,
   "metadata": {
    "colab": {
     "base_uri": "https://localhost:8080/"
    },
    "executionInfo": {
     "elapsed": 205,
     "status": "ok",
     "timestamp": 1674306166277,
     "user": {
      "displayName": "Yi Cao",
      "userId": "08364686972985899504"
     },
     "user_tz": 0
    },
    "id": "763Bc0XOEoGC",
    "outputId": "17c2311a-c831-493c-e6b6-4baced197829"
   },
   "outputs": [
    {
     "name": "stdout",
     "output_type": "stream",
     "text": [
      "Model: \"sequential_3\"\n",
      "_________________________________________________________________\n",
      " Layer (type)                Output Shape              Param #   \n",
      "=================================================================\n",
      " simple_rnn_3 (SimpleRNN)    (None, 100)               10200     \n",
      "                                                                 \n",
      " dense_3 (Dense)             (None, 1)                 101       \n",
      "                                                                 \n",
      "=================================================================\n",
      "Total params: 10,301\n",
      "Trainable params: 10,301\n",
      "Non-trainable params: 0\n",
      "_________________________________________________________________\n"
     ]
    }
   ],
   "source": [
    "model.summary()"
   ]
  },
  {
   "cell_type": "code",
   "execution_count": 48,
   "metadata": {
    "colab": {
     "base_uri": "https://localhost:8080/"
    },
    "executionInfo": {
     "elapsed": 54168,
     "status": "ok",
     "timestamp": 1674306226126,
     "user": {
      "displayName": "Yi Cao",
      "userId": "08364686972985899504"
     },
     "user_tz": 0
    },
    "id": "4AkWOpxGEoGC",
    "outputId": "07a4e0b4-9532-452b-cce7-a0e73c0371c0"
   },
   "outputs": [
    {
     "name": "stdout",
     "output_type": "stream",
     "text": [
      "CPU times: user 34.4 s, sys: 1.3 s, total: 35.7 s\n",
      "Wall time: 54 s\n"
     ]
    }
   ],
   "source": [
    "%%time\n",
    "h = model.fit(g, epochs=1000, steps_per_epoch=5,\n",
    "            verbose=False)"
   ]
  },
  {
   "cell_type": "code",
   "execution_count": 49,
   "metadata": {
    "colab": {
     "base_uri": "https://localhost:8080/"
    },
    "executionInfo": {
     "elapsed": 5,
     "status": "ok",
     "timestamp": 1674306229985,
     "user": {
      "displayName": "Yi Cao",
      "userId": "08364686972985899504"
     },
     "user_tz": 0
    },
    "id": "s0QNuutfr3Vr",
    "outputId": "600bffb9-edb6-4368-b149-aeb4f3f59bfe"
   },
   "outputs": [
    {
     "data": {
      "text/plain": [
       "dict"
      ]
     },
     "execution_count": 49,
     "metadata": {},
     "output_type": "execute_result"
    }
   ],
   "source": [
    "type(h.history)"
   ]
  },
  {
   "cell_type": "code",
   "execution_count": 50,
   "metadata": {
    "colab": {
     "base_uri": "https://localhost:8080/",
     "height": 143
    },
    "executionInfo": {
     "elapsed": 194,
     "status": "ok",
     "timestamp": 1674306232906,
     "user": {
      "displayName": "Yi Cao",
      "userId": "08364686972985899504"
     },
     "user_tz": 0
    },
    "id": "kQhOwg8lEoGD",
    "outputId": "61bef7b7-3830-45d2-ad6c-665365668a2b"
   },
   "outputs": [
    {
     "data": {
      "text/html": [
       "\n",
       "  <div id=\"df-d4dce864-8812-44e1-9932-71b89a488e6d\">\n",
       "    <div class=\"colab-df-container\">\n",
       "      <div>\n",
       "<style scoped>\n",
       "    .dataframe tbody tr th:only-of-type {\n",
       "        vertical-align: middle;\n",
       "    }\n",
       "\n",
       "    .dataframe tbody tr th {\n",
       "        vertical-align: top;\n",
       "    }\n",
       "\n",
       "    .dataframe thead th {\n",
       "        text-align: right;\n",
       "    }\n",
       "</style>\n",
       "<table border=\"1\" class=\"dataframe\">\n",
       "  <thead>\n",
       "    <tr style=\"text-align: right;\">\n",
       "      <th></th>\n",
       "      <th>loss</th>\n",
       "      <th>mae</th>\n",
       "    </tr>\n",
       "  </thead>\n",
       "  <tbody>\n",
       "    <tr>\n",
       "      <th>997</th>\n",
       "      <td>0.4346</td>\n",
       "      <td>0.5046</td>\n",
       "    </tr>\n",
       "    <tr>\n",
       "      <th>998</th>\n",
       "      <td>0.5351</td>\n",
       "      <td>0.7013</td>\n",
       "    </tr>\n",
       "    <tr>\n",
       "      <th>999</th>\n",
       "      <td>0.0864</td>\n",
       "      <td>0.2667</td>\n",
       "    </tr>\n",
       "  </tbody>\n",
       "</table>\n",
       "</div>\n",
       "      <button class=\"colab-df-convert\" onclick=\"convertToInteractive('df-d4dce864-8812-44e1-9932-71b89a488e6d')\"\n",
       "              title=\"Convert this dataframe to an interactive table.\"\n",
       "              style=\"display:none;\">\n",
       "        \n",
       "  <svg xmlns=\"http://www.w3.org/2000/svg\" height=\"24px\"viewBox=\"0 0 24 24\"\n",
       "       width=\"24px\">\n",
       "    <path d=\"M0 0h24v24H0V0z\" fill=\"none\"/>\n",
       "    <path d=\"M18.56 5.44l.94 2.06.94-2.06 2.06-.94-2.06-.94-.94-2.06-.94 2.06-2.06.94zm-11 1L8.5 8.5l.94-2.06 2.06-.94-2.06-.94L8.5 2.5l-.94 2.06-2.06.94zm10 10l.94 2.06.94-2.06 2.06-.94-2.06-.94-.94-2.06-.94 2.06-2.06.94z\"/><path d=\"M17.41 7.96l-1.37-1.37c-.4-.4-.92-.59-1.43-.59-.52 0-1.04.2-1.43.59L10.3 9.45l-7.72 7.72c-.78.78-.78 2.05 0 2.83L4 21.41c.39.39.9.59 1.41.59.51 0 1.02-.2 1.41-.59l7.78-7.78 2.81-2.81c.8-.78.8-2.07 0-2.86zM5.41 20L4 18.59l7.72-7.72 1.47 1.35L5.41 20z\"/>\n",
       "  </svg>\n",
       "      </button>\n",
       "      \n",
       "  <style>\n",
       "    .colab-df-container {\n",
       "      display:flex;\n",
       "      flex-wrap:wrap;\n",
       "      gap: 12px;\n",
       "    }\n",
       "\n",
       "    .colab-df-convert {\n",
       "      background-color: #E8F0FE;\n",
       "      border: none;\n",
       "      border-radius: 50%;\n",
       "      cursor: pointer;\n",
       "      display: none;\n",
       "      fill: #1967D2;\n",
       "      height: 32px;\n",
       "      padding: 0 0 0 0;\n",
       "      width: 32px;\n",
       "    }\n",
       "\n",
       "    .colab-df-convert:hover {\n",
       "      background-color: #E2EBFA;\n",
       "      box-shadow: 0px 1px 2px rgba(60, 64, 67, 0.3), 0px 1px 3px 1px rgba(60, 64, 67, 0.15);\n",
       "      fill: #174EA6;\n",
       "    }\n",
       "\n",
       "    [theme=dark] .colab-df-convert {\n",
       "      background-color: #3B4455;\n",
       "      fill: #D2E3FC;\n",
       "    }\n",
       "\n",
       "    [theme=dark] .colab-df-convert:hover {\n",
       "      background-color: #434B5C;\n",
       "      box-shadow: 0px 1px 3px 1px rgba(0, 0, 0, 0.15);\n",
       "      filter: drop-shadow(0px 1px 2px rgba(0, 0, 0, 0.3));\n",
       "      fill: #FFFFFF;\n",
       "    }\n",
       "  </style>\n",
       "\n",
       "      <script>\n",
       "        const buttonEl =\n",
       "          document.querySelector('#df-d4dce864-8812-44e1-9932-71b89a488e6d button.colab-df-convert');\n",
       "        buttonEl.style.display =\n",
       "          google.colab.kernel.accessAllowed ? 'block' : 'none';\n",
       "\n",
       "        async function convertToInteractive(key) {\n",
       "          const element = document.querySelector('#df-d4dce864-8812-44e1-9932-71b89a488e6d');\n",
       "          const dataTable =\n",
       "            await google.colab.kernel.invokeFunction('convertToInteractive',\n",
       "                                                     [key], {});\n",
       "          if (!dataTable) return;\n",
       "\n",
       "          const docLinkHtml = 'Like what you see? Visit the ' +\n",
       "            '<a target=\"_blank\" href=https://colab.research.google.com/notebooks/data_table.ipynb>data table notebook</a>'\n",
       "            + ' to learn more about interactive tables.';\n",
       "          element.innerHTML = '';\n",
       "          dataTable['output_type'] = 'display_data';\n",
       "          await google.colab.output.renderOutput(dataTable, element);\n",
       "          const docLink = document.createElement('div');\n",
       "          docLink.innerHTML = docLinkHtml;\n",
       "          element.appendChild(docLink);\n",
       "        }\n",
       "      </script>\n",
       "    </div>\n",
       "  </div>\n",
       "  "
      ],
      "text/plain": [
       "       loss     mae\n",
       "997  0.4346  0.5046\n",
       "998  0.5351  0.7013\n",
       "999  0.0864  0.2667"
      ]
     },
     "execution_count": 50,
     "metadata": {},
     "output_type": "execute_result"
    }
   ],
   "source": [
    "# transform a dict to a Pandas dataframe\n",
    "res = pd.DataFrame(h.history)\n",
    "res.tail(3)"
   ]
  },
  {
   "cell_type": "code",
   "execution_count": 51,
   "metadata": {
    "colab": {
     "base_uri": "https://localhost:8080/",
     "height": 374
    },
    "executionInfo": {
     "elapsed": 638,
     "status": "ok",
     "timestamp": 1674306236180,
     "user": {
      "displayName": "Yi Cao",
      "userId": "08364686972985899504"
     },
     "user_tz": 0
    },
    "id": "NA77XxgqEoGD",
    "outputId": "0656ff11-6446-4c22-c0fc-2d0211db0974"
   },
   "outputs": [
    {
     "data": {
      "image/png": "[encoded data removed]",
      "text/plain": [
       "<Figure size 720x432 with 1 Axes>"
      ]
     },
     "metadata": {},
     "output_type": "display_data"
    }
   ],
   "source": [
    "res.iloc[5:].plot(figsize=(10, 6), style=['-', '-']);"
   ]
  },
  {
   "cell_type": "code",
   "execution_count": 52,
   "metadata": {
    "colab": {
     "base_uri": "https://localhost:8080/"
    },
    "executionInfo": {
     "elapsed": 449,
     "status": "ok",
     "timestamp": 1674306240059,
     "user": {
      "displayName": "Yi Cao",
      "userId": "08364686972985899504"
     },
     "user_tz": 0
    },
    "id": "wAx2aQjnEoGE",
    "outputId": "2964fd91-5553-48bc-a2c0-ee0ee88d7ec2"
   },
   "outputs": [
    {
     "data": {
      "text/plain": [
       "23"
      ]
     },
     "execution_count": 52,
     "metadata": {},
     "output_type": "execute_result"
    }
   ],
   "source": [
    "# testing: X=21,22,23 => y=?\n",
    "x = np.array([21, 22, 23]).reshape((1, lags, 1))\n",
    "y = model.predict(x, verbose=False)\n",
    "int(round(y[0, 0]))"
   ]
  },
  {
   "cell_type": "code",
   "execution_count": 53,
   "metadata": {
    "colab": {
     "base_uri": "https://localhost:8080/"
    },
    "executionInfo": {
     "elapsed": 185,
     "status": "ok",
     "timestamp": 1674306242307,
     "user": {
      "displayName": "Yi Cao",
      "userId": "08364686972985899504"
     },
     "user_tz": 0
    },
    "id": "xjpzqIGBEoGF",
    "outputId": "5106cbde-a825-4f92-86c8-0051b31beb29"
   },
   "outputs": [
    {
     "data": {
      "text/plain": [
       "90"
      ]
     },
     "execution_count": 53,
     "metadata": {},
     "output_type": "execute_result"
    }
   ],
   "source": [
    "# testing: X=87,88,89 => y=?\n",
    "x = np.array([87, 88, 89]).reshape((1, lags, 1))\n",
    "y = model.predict(x, verbose=False)\n",
    "int(round(y[0, 0]))"
   ]
  },
  {
   "cell_type": "code",
   "execution_count": 54,
   "metadata": {
    "colab": {
     "base_uri": "https://localhost:8080/"
    },
    "executionInfo": {
     "elapsed": 178,
     "status": "ok",
     "timestamp": 1674306246448,
     "user": {
      "displayName": "Yi Cao",
      "userId": "08364686972985899504"
     },
     "user_tz": 0
    },
    "id": "QjO63roaEoGF",
    "outputId": "bbb3231e-9e42-4a21-8184-8d0049df4d4e"
   },
   "outputs": [
    {
     "data": {
      "text/plain": [
       "193"
      ]
     },
     "execution_count": 54,
     "metadata": {},
     "output_type": "execute_result"
    }
   ],
   "source": [
    "x = np.array([187, 188, 189]).reshape((1, lags, 1))\n",
    "y = model.predict(x, verbose=False)\n",
    "int(round(y[0, 0]))"
   ]
  },
  {
   "cell_type": "code",
   "execution_count": 55,
   "metadata": {
    "colab": {
     "base_uri": "https://localhost:8080/"
    },
    "executionInfo": {
     "elapsed": 176,
     "status": "ok",
     "timestamp": 1674306252897,
     "user": {
      "displayName": "Yi Cao",
      "userId": "08364686972985899504"
     },
     "user_tz": 0
    },
    "id": "5E9frNFPEoGF",
    "outputId": "a22d2852-ecf5-49e9-fc1d-477e8a617fcc"
   },
   "outputs": [
    {
     "data": {
      "text/plain": [
       "1220"
      ]
     },
     "execution_count": 55,
     "metadata": {},
     "output_type": "execute_result"
    }
   ],
   "source": [
    "x = np.array([1187, 1188, 1189]).reshape((1, lags, 1))\n",
    "y = model.predict(x, verbose=False)\n",
    "int(round(y[0, 0]))"
   ]
  },
  {
   "cell_type": "markdown",
   "metadata": {
    "id": "ekvd5jmD1J34"
   },
   "source": [
    "## Modelling FX by RNN"
   ]
  },
  {
   "cell_type": "markdown",
   "metadata": {
    "id": "bFFhQqBaGX0C"
   },
   "source": [
    "### Modelling FX rate"
   ]
  },
  {
   "cell_type": "markdown",
   "metadata": {
    "id": "nfS4bMcbvhpv"
   },
   "source": [
    "### import google.colab for read from google drive"
   ]
  },
  {
   "cell_type": "code",
   "execution_count": 57,
   "metadata": {
    "colab": {
     "base_uri": "https://localhost:8080/"
    },
    "executionInfo": {
     "elapsed": 195,
     "status": "ok",
     "timestamp": 1674308310627,
     "user": {
      "displayName": "Yi Cao",
      "userId": "08364686972985899504"
     },
     "user_tz": 0
    },
    "id": "frVGutHc1RCR",
    "outputId": "1322a90f-ba63-4db0-a461-548c4481a83e"
   },
   "outputs": [
    {
     "name": "stdout",
     "output_type": "stream",
     "text": [
      "             HIGH         LOW        OPEN       CLOSE\n",
      "count  96526.0000  96526.0000  96526.0000  96526.0000\n",
      "mean       1.1072      1.1069      1.1071      1.1071\n",
      "std        0.0064      0.0064      0.0064      0.0064\n",
      "min        1.0881      1.0877      1.0879      1.0879\n",
      "25%        1.1021      1.1019      1.1021      1.1020\n",
      "50%        1.1077      1.1075      1.1076      1.1076\n",
      "75%        1.1121      1.1118      1.1119      1.1119\n",
      "max        1.1239      1.1236      1.1239      1.1238\n"
     ]
    }
   ],
   "source": [
    "'''to read data, upload data (csv, xlsx, txt...) to your google drive, and mount google drive to your Colab environment, \n",
    "so that you can use Pandas to read the data directly\n",
    "''' \n",
    "from google.colab import drive\n",
    "\n",
    "# mount the Google drive as a path that you can work on \n",
    "drive.mount('/drive')\n",
    "\n",
    "# the file path always starts with '/drive/My Drive/', you can define your own file directory\n",
    "raw = pd.read_csv('/drive/My Drive/Colab Notebooks/Data/eur_usd.csv', parse_dates=True)\n",
    "print(raw.describe())\n"
   ]
  },
  {
   "cell_type": "code",
   "execution_count": 58,
   "metadata": {
    "colab": {
     "base_uri": "https://localhost:8080/"
    },
    "executionInfo": {
     "elapsed": 187,
     "status": "ok",
     "timestamp": 1674308313551,
     "user": {
      "displayName": "Yi Cao",
      "userId": "08364686972985899504"
     },
     "user_tz": 0
    },
    "id": "72WvjObJjT-V",
    "outputId": "28acb306-8817-4cf7-ec5e-1066971fb97c"
   },
   "outputs": [
    {
     "name": "stdout",
     "output_type": "stream",
     "text": [
      "                  Date    HIGH     LOW    OPEN   CLOSE\n",
      "0  2019-10-01 00:00:00  1.0899  1.0897  1.0897  1.0899\n",
      "1  2019-10-01 00:01:00  1.0899  1.0896  1.0899  1.0898\n",
      "2  2019-10-01 00:02:00  1.0898  1.0896  1.0898  1.0896\n",
      "3  2019-10-01 00:03:00  1.0898  1.0896  1.0897  1.0898\n",
      "4  2019-10-01 00:04:00  1.0898  1.0896  1.0897  1.0898\n"
     ]
    }
   ],
   "source": [
    "print(raw.head())"
   ]
  },
  {
   "cell_type": "markdown",
   "metadata": {
    "id": "CLcTFymgvaWl"
   },
   "source": [
    "### define some function for modelling FX"
   ]
  },
  {
   "cell_type": "code",
   "execution_count": 59,
   "metadata": {
    "executionInfo": {
     "elapsed": 174,
     "status": "ok",
     "timestamp": 1674308318433,
     "user": {
      "displayName": "Yi Cao",
      "userId": "08364686972985899504"
     },
     "user_tz": 0
    },
    "id": "f3-6bK8r8Xex"
   },
   "outputs": [],
   "source": [
    "# define a function for plotting a time series with a dataframe format\n",
    "\n",
    "def plot_fin_data( data_x, data_y, leg_txt='price' ):\n",
    "    # plot financial data, data_x must be transformable to datatime\n",
    "    %matplotlib inline\n",
    "    plt.figure(figsize=(10, 6))\n",
    "    for i in range(data_y.shape[1]):\n",
    "        plt.plot(pd.to_datetime(data_x), data_y.iloc[:,i], '-')\n",
    "    plt.xlabel('Date', fontsize=15)\n",
    "    plt.ylabel(leg_txt, fontsize=15)\n",
    "    plt.legend([leg_txt], fontsize=15)\n"
   ]
  },
  {
   "cell_type": "code",
   "execution_count": 60,
   "metadata": {
    "executionInfo": {
     "elapsed": 183,
     "status": "ok",
     "timestamp": 1674308320127,
     "user": {
      "displayName": "Yi Cao",
      "userId": "08364686972985899504"
     },
     "user_tz": 0
    },
    "id": "S9uF7jU8EoGK"
   },
   "outputs": [],
   "source": [
    "# define a function for resampling the high-frequency data\n",
    "# input argument is the downsample interval: \n",
    "# it can be any value with min, h, d, it is 30min by default\n",
    "def generate_data( freq='10min' ):\n",
    "    data = pd.DataFrame(raw['CLOSE'])\n",
    "    data.columns = ['EUR_USD']\n",
    "    data.index = raw.index\n",
    "    # resample by freq, take the last value of each bin with NaN value filled\n",
    "    data = data.resample(freq, label='right').last().ffill()\n",
    "    return data"
   ]
  },
  {
   "cell_type": "code",
   "execution_count": 61,
   "metadata": {
    "colab": {
     "base_uri": "https://localhost:8080/",
     "height": 391
    },
    "executionInfo": {
     "elapsed": 869,
     "status": "ok",
     "timestamp": 1674308324331,
     "user": {
      "displayName": "Yi Cao",
      "userId": "08364686972985899504"
     },
     "user_tz": 0
    },
    "id": "ZZenTJ-R0uw4",
    "outputId": "bd8f616c-f699-4963-9e19-6dea105c4f0f"
   },
   "outputs": [
    {
     "data": {
      "image/png": "[encoded data removed]",
      "text/plain": [
       "<Figure size 720x432 with 1 Axes>"
      ]
     },
     "metadata": {
      "needs_background": "light"
     },
     "output_type": "display_data"
    }
   ],
   "source": [
    "# must pass data_y as a dataframe, NOT a series\n",
    "plot_fin_data(raw['Date'], raw[['CLOSE']], 'EUR/USD Closing Price')"
   ]
  },
  {
   "cell_type": "code",
   "execution_count": 62,
   "metadata": {
    "colab": {
     "base_uri": "https://localhost:8080/",
     "height": 766
    },
    "executionInfo": {
     "elapsed": 2798,
     "status": "ok",
     "timestamp": 1674308334348,
     "user": {
      "displayName": "Yi Cao",
      "userId": "08364686972985899504"
     },
     "user_tz": 0
    },
    "id": "BwgAJ8631K1Z",
    "outputId": "0d4d1d76-c7f2-47a3-e8be-806ab660792e"
   },
   "outputs": [
    {
     "data": {
      "text/plain": [
       "<matplotlib.axes._subplots.AxesSubplot at 0x7f4a496c5eb0>"
      ]
     },
     "execution_count": 62,
     "metadata": {},
     "output_type": "execute_result"
    },
    {
     "data": {
      "image/png": "[encoded data removed]",
      "text/plain": [
       "<Figure size 720x432 with 1 Axes>"
      ]
     },
     "metadata": {
      "needs_background": "light"
     },
     "output_type": "display_data"
    },
    {
     "data": {
      "image/png": "[encoded data removed]",
      "text/plain": [
       "<Figure size 720x432 with 1 Axes>"
      ]
     },
     "metadata": {
      "needs_background": "light"
     },
     "output_type": "display_data"
    }
   ],
   "source": [
    "# transform the date to datetime format\n",
    "raw['Date'] = pd.to_datetime(raw['Date'])\n",
    "raw.set_index('Date', inplace=True)\n",
    "raw.head()\n",
    "# easily plot by dataframe, the index is the x by default\n",
    "raw.plot( y='CLOSE', figsize=(10, 6) )\n",
    "raw.plot( y='OPEN', figsize=(10, 6) )"
   ]
  },
  {
   "cell_type": "code",
   "execution_count": 63,
   "metadata": {
    "colab": {
     "base_uri": "https://localhost:8080/",
     "height": 612
    },
    "executionInfo": {
     "elapsed": 689,
     "status": "ok",
     "timestamp": 1674308340412,
     "user": {
      "displayName": "Yi Cao",
      "userId": "08364686972985899504"
     },
     "user_tz": 0
    },
    "id": "qMhBdSudEoGK",
    "outputId": "a01e5f06-587d-41fa-f308-2430e662a211"
   },
   "outputs": [
    {
     "data": {
      "text/html": [
       "\n",
       "  <div id=\"df-db0ec04b-95d2-46be-9121-809f8b6b247a\">\n",
       "    <div class=\"colab-df-container\">\n",
       "      <div>\n",
       "<style scoped>\n",
       "    .dataframe tbody tr th:only-of-type {\n",
       "        vertical-align: middle;\n",
       "    }\n",
       "\n",
       "    .dataframe tbody tr th {\n",
       "        vertical-align: top;\n",
       "    }\n",
       "\n",
       "    .dataframe thead th {\n",
       "        text-align: right;\n",
       "    }\n",
       "</style>\n",
       "<table border=\"1\" class=\"dataframe\">\n",
       "  <thead>\n",
       "    <tr style=\"text-align: right;\">\n",
       "      <th></th>\n",
       "      <th>EUR_USD</th>\n",
       "    </tr>\n",
       "    <tr>\n",
       "      <th>Date</th>\n",
       "      <th></th>\n",
       "    </tr>\n",
       "  </thead>\n",
       "  <tbody>\n",
       "    <tr>\n",
       "      <th>2019-10-01 00:30:00</th>\n",
       "      <td>1.0899</td>\n",
       "    </tr>\n",
       "    <tr>\n",
       "      <th>2019-10-01 01:00:00</th>\n",
       "      <td>1.0896</td>\n",
       "    </tr>\n",
       "    <tr>\n",
       "      <th>2019-10-01 01:30:00</th>\n",
       "      <td>1.0892</td>\n",
       "    </tr>\n",
       "    <tr>\n",
       "      <th>2019-10-01 02:00:00</th>\n",
       "      <td>1.0890</td>\n",
       "    </tr>\n",
       "    <tr>\n",
       "      <th>2019-10-01 02:30:00</th>\n",
       "      <td>1.0886</td>\n",
       "    </tr>\n",
       "  </tbody>\n",
       "</table>\n",
       "</div>\n",
       "      <button class=\"colab-df-convert\" onclick=\"convertToInteractive('df-db0ec04b-95d2-46be-9121-809f8b6b247a')\"\n",
       "              title=\"Convert this dataframe to an interactive table.\"\n",
       "              style=\"display:none;\">\n",
       "        \n",
       "  <svg xmlns=\"http://www.w3.org/2000/svg\" height=\"24px\"viewBox=\"0 0 24 24\"\n",
       "       width=\"24px\">\n",
       "    <path d=\"M0 0h24v24H0V0z\" fill=\"none\"/>\n",
       "    <path d=\"M18.56 5.44l.94 2.06.94-2.06 2.06-.94-2.06-.94-.94-2.06-.94 2.06-2.06.94zm-11 1L8.5 8.5l.94-2.06 2.06-.94-2.06-.94L8.5 2.5l-.94 2.06-2.06.94zm10 10l.94 2.06.94-2.06 2.06-.94-2.06-.94-.94-2.06-.94 2.06-2.06.94z\"/><path d=\"M17.41 7.96l-1.37-1.37c-.4-.4-.92-.59-1.43-.59-.52 0-1.04.2-1.43.59L10.3 9.45l-7.72 7.72c-.78.78-.78 2.05 0 2.83L4 21.41c.39.39.9.59 1.41.59.51 0 1.02-.2 1.41-.59l7.78-7.78 2.81-2.81c.8-.78.8-2.07 0-2.86zM5.41 20L4 18.59l7.72-7.72 1.47 1.35L5.41 20z\"/>\n",
       "  </svg>\n",
       "      </button>\n",
       "      \n",
       "  <style>\n",
       "    .colab-df-container {\n",
       "      display:flex;\n",
       "      flex-wrap:wrap;\n",
       "      gap: 12px;\n",
       "    }\n",
       "\n",
       "    .colab-df-convert {\n",
       "      background-color: #E8F0FE;\n",
       "      border: none;\n",
       "      border-radius: 50%;\n",
       "      cursor: pointer;\n",
       "      display: none;\n",
       "      fill: #1967D2;\n",
       "      height: 32px;\n",
       "      padding: 0 0 0 0;\n",
       "      width: 32px;\n",
       "    }\n",
       "\n",
       "    .colab-df-convert:hover {\n",
       "      background-color: #E2EBFA;\n",
       "      box-shadow: 0px 1px 2px rgba(60, 64, 67, 0.3), 0px 1px 3px 1px rgba(60, 64, 67, 0.15);\n",
       "      fill: #174EA6;\n",
       "    }\n",
       "\n",
       "    [theme=dark] .colab-df-convert {\n",
       "      background-color: #3B4455;\n",
       "      fill: #D2E3FC;\n",
       "    }\n",
       "\n",
       "    [theme=dark] .colab-df-convert:hover {\n",
       "      background-color: #434B5C;\n",
       "      box-shadow: 0px 1px 3px 1px rgba(0, 0, 0, 0.15);\n",
       "      filter: drop-shadow(0px 1px 2px rgba(0, 0, 0, 0.3));\n",
       "      fill: #FFFFFF;\n",
       "    }\n",
       "  </style>\n",
       "\n",
       "      <script>\n",
       "        const buttonEl =\n",
       "          document.querySelector('#df-db0ec04b-95d2-46be-9121-809f8b6b247a button.colab-df-convert');\n",
       "        buttonEl.style.display =\n",
       "          google.colab.kernel.accessAllowed ? 'block' : 'none';\n",
       "\n",
       "        async function convertToInteractive(key) {\n",
       "          const element = document.querySelector('#df-db0ec04b-95d2-46be-9121-809f8b6b247a');\n",
       "          const dataTable =\n",
       "            await google.colab.kernel.invokeFunction('convertToInteractive',\n",
       "                                                     [key], {});\n",
       "          if (!dataTable) return;\n",
       "\n",
       "          const docLinkHtml = 'Like what you see? Visit the ' +\n",
       "            '<a target=\"_blank\" href=https://colab.research.google.com/notebooks/data_table.ipynb>data table notebook</a>'\n",
       "            + ' to learn more about interactive tables.';\n",
       "          element.innerHTML = '';\n",
       "          dataTable['output_type'] = 'display_data';\n",
       "          await google.colab.output.renderOutput(dataTable, element);\n",
       "          const docLink = document.createElement('div');\n",
       "          docLink.innerHTML = docLinkHtml;\n",
       "          element.appendChild(docLink);\n",
       "        }\n",
       "      </script>\n",
       "    </div>\n",
       "  </div>\n",
       "  "
      ],
      "text/plain": [
       "                     EUR_USD\n",
       "Date                        \n",
       "2019-10-01 00:30:00   1.0899\n",
       "2019-10-01 01:00:00   1.0896\n",
       "2019-10-01 01:30:00   1.0892\n",
       "2019-10-01 02:00:00   1.0890\n",
       "2019-10-01 02:30:00   1.0886"
      ]
     },
     "execution_count": 63,
     "metadata": {},
     "output_type": "execute_result"
    },
    {
     "data": {
      "image/png": "[encoded data removed]",
      "text/plain": [
       "<Figure size 720x432 with 1 Axes>"
      ]
     },
     "metadata": {
      "needs_background": "light"
     },
     "output_type": "display_data"
    }
   ],
   "source": [
    "# we can downsample by 10min, 30min, 1h, 2h, 1d, 10d etc\n",
    "# you can also try down sample to 2 days and see how the data looks like\n",
    "freq = '30min'\n",
    "\n",
    "# sampling the data by the freq (every 30 min in this example)\n",
    "data = generate_data( freq )\n",
    "\n",
    "plot_fin_data(data.index, data[['EUR_USD']], 'EUR_USD '+freq)\n",
    "data.head()"
   ]
  },
  {
   "cell_type": "code",
   "execution_count": 64,
   "metadata": {
    "colab": {
     "base_uri": "https://localhost:8080/"
    },
    "executionInfo": {
     "elapsed": 183,
     "status": "ok",
     "timestamp": 1674308348376,
     "user": {
      "displayName": "Yi Cao",
      "userId": "08364686972985899504"
     },
     "user_tz": 0
    },
    "id": "J33n4hqBEoGK",
    "outputId": "c73d2092-0b87-4b52-b330-10cebd5a859b"
   },
   "outputs": [
    {
     "data": {
      "text/plain": [
       "(4415,)"
      ]
     },
     "execution_count": 64,
     "metadata": {},
     "output_type": "execute_result"
    }
   ],
   "source": [
    "p = data['EUR_USD'].values\n",
    "p.shape"
   ]
  },
  {
   "cell_type": "code",
   "execution_count": 65,
   "metadata": {
    "colab": {
     "base_uri": "https://localhost:8080/"
    },
    "executionInfo": {
     "elapsed": 190,
     "status": "ok",
     "timestamp": 1674308356156,
     "user": {
      "displayName": "Yi Cao",
      "userId": "08364686972985899504"
     },
     "user_tz": 0
    },
    "id": "0ZtVcqNTEoGK",
    "outputId": "a66af448-f943-420a-a66b-b5fb7278557b"
   },
   "outputs": [
    {
     "name": "stdout",
     "output_type": "stream",
     "text": [
      "(4415, 1)\n",
      "[[1.0899]\n",
      " [1.0896]\n",
      " [1.0892]\n",
      " [1.089 ]\n",
      " [1.0886]]\n"
     ]
    }
   ],
   "source": [
    "p = p.reshape((len(p), -1))\n",
    "print(p.shape)\n",
    "print(p[:5])"
   ]
  },
  {
   "cell_type": "code",
   "execution_count": 66,
   "metadata": {
    "executionInfo": {
     "elapsed": 190,
     "status": "ok",
     "timestamp": 1674308364285,
     "user": {
      "displayName": "Yi Cao",
      "userId": "08364686972985899504"
     },
     "user_tz": 0
    },
    "id": "eZng3iFUVumB"
   },
   "outputs": [],
   "source": [
    "# split the data to training and testing\n",
    "split = int(len(p)*0.7)"
   ]
  },
  {
   "cell_type": "code",
   "execution_count": 67,
   "metadata": {
    "colab": {
     "base_uri": "https://localhost:8080/"
    },
    "executionInfo": {
     "elapsed": 176,
     "status": "ok",
     "timestamp": 1674308365788,
     "user": {
      "displayName": "Yi Cao",
      "userId": "08364686972985899504"
     },
     "user_tz": 0
    },
    "id": "j88kI7XqUk_Y",
    "outputId": "428e0a2b-d5ac-4ef4-99ad-c36dff938596"
   },
   "outputs": [
    {
     "name": "stdout",
     "output_type": "stream",
     "text": [
      "train FX rate mean: 1.1053564078 | train FX rate std: 0.0062389516\n",
      "[[-2.4774]\n",
      " [-2.5255]\n",
      " [-2.5896]\n",
      " [-2.6217]\n",
      " [-2.6858]\n",
      " [-2.6858]]\n"
     ]
    }
   ],
   "source": [
    "# normalize the train data\n",
    "train_avg = np.mean(p[:split])\n",
    "train_std = np.std(p[:split])\n",
    "train = (p[:split]-train_avg)/train_std\n",
    "\n",
    "print(f'train FX rate mean: {train_avg:.10f} | train FX rate std: {train_std:.10f}')\n",
    "print(train[:6])"
   ]
  },
  {
   "cell_type": "code",
   "execution_count": 68,
   "metadata": {
    "executionInfo": {
     "elapsed": 172,
     "status": "ok",
     "timestamp": 1674308370626,
     "user": {
      "displayName": "Yi Cao",
      "userId": "08364686972985899504"
     },
     "user_tz": 0
    },
    "id": "yFZnmBITEoGK"
   },
   "outputs": [],
   "source": [
    "lags = 3"
   ]
  },
  {
   "cell_type": "code",
   "execution_count": 69,
   "metadata": {
    "colab": {
     "base_uri": "https://localhost:8080/"
    },
    "executionInfo": {
     "elapsed": 197,
     "status": "ok",
     "timestamp": 1674308376853,
     "user": {
      "displayName": "Yi Cao",
      "userId": "08364686972985899504"
     },
     "user_tz": 0
    },
    "id": "OMPrQwqIEoGL",
    "outputId": "96121103-106e-4648-a90d-83f27a94173f"
   },
   "outputs": [
    {
     "name": "stdout",
     "output_type": "stream",
     "text": [
      "[[[-2.4774]\n",
      "  [-2.5255]\n",
      "  [-2.5896]]\n",
      "\n",
      " [[-2.5255]\n",
      "  [-2.5896]\n",
      "  [-2.6217]]\n",
      "\n",
      " [[-2.5896]\n",
      "  [-2.6217]\n",
      "  [-2.6858]]\n",
      "\n",
      " [[-2.6217]\n",
      "  [-2.6858]\n",
      "  [-2.6858]]\n",
      "\n",
      " [[-2.6858]\n",
      "  [-2.6858]\n",
      "  [-2.6858]]] => [[-2.6217]\n",
      " [-2.6858]\n",
      " [-2.6858]\n",
      " [-2.6858]\n",
      " [-2.6537]]\n"
     ]
    }
   ],
   "source": [
    "from keras.preprocessing.sequence import TimeseriesGenerator\n",
    "\n",
    "''' TimeseriesGenerator is to construct a time series data to be the dataset for training or testing\n",
    "in this example, we use the prior five FX rate to forecast the next FX rate, \n",
    "TimeseriesGenerator construct the features X\n",
    "[[-2.4774]\n",
    "  [-2.5255]\n",
    "  [-2.5896]\n",
    "  [-2.6217]\n",
    "  [-2.6858]]\n",
    "the target y as [-2.6858]\n",
    "\n",
    "batch_size is batch size defines the number samples that will be fed in each iteration of the model.\n",
    "The difference between the different values of batch size are the model weight's optimization. \n",
    "If batch size is equal to 5, the model update the weights only after reading 5 samples.\n",
    "'''\n",
    "g = TimeseriesGenerator(train, train, length=lags, batch_size=5)\n",
    "\n",
    "# to print the first example of generated X and y\n",
    "x,y = g[0]\n",
    "print('%s => %s' % (x, y))"
   ]
  },
  {
   "cell_type": "code",
   "execution_count": 70,
   "metadata": {
    "executionInfo": {
     "elapsed": 176,
     "status": "ok",
     "timestamp": 1674308380397,
     "user": {
      "displayName": "Yi Cao",
      "userId": "08364686972985899504"
     },
     "user_tz": 0
    },
    "id": "z2-JciJ0EoGL"
   },
   "outputs": [],
   "source": [
    "# we create a function for constructing RNN or LSTM model\n",
    "\n",
    "def create_rnn_model(hu=100, lags=lags, layer='SimpleRNN',\n",
    "                           features=1, algorithm='estimation'):\n",
    "    model = Sequential()\n",
    "    if layer == 'SimpleRNN':\n",
    "        model.add(SimpleRNN(hu, activation='relu',\n",
    "                            input_shape=(lags, features)))\n",
    "    else:\n",
    "        model.add(LSTM(hu, activation='relu',\n",
    "                       input_shape=(lags, features)))\n",
    "    if algorithm == 'estimation':\n",
    "        model.add(Dense(1, activation='linear'))\n",
    "        model.compile(optimizer='adam', loss='mse', metrics=['mae'])\n",
    "    else:\n",
    "        model.add(Dense(1, activation='sigmoid'))\n",
    "        model.compile(optimizer='adam', loss='binary_crossentropy',\n",
    "                      metrics=['accuracy'])\n",
    "    return model"
   ]
  },
  {
   "cell_type": "code",
   "execution_count": 71,
   "metadata": {
    "colab": {
     "base_uri": "https://localhost:8080/"
    },
    "executionInfo": {
     "elapsed": 199,
     "status": "ok",
     "timestamp": 1674308400595,
     "user": {
      "displayName": "Yi Cao",
      "userId": "08364686972985899504"
     },
     "user_tz": 0
    },
    "id": "_TM2KFasEoGL",
    "outputId": "687a4d39-c183-42ef-cdf6-57246ced5903"
   },
   "outputs": [
    {
     "name": "stdout",
     "output_type": "stream",
     "text": [
      "Model: \"sequential_4\"\n",
      "_________________________________________________________________\n",
      " Layer (type)                Output Shape              Param #   \n",
      "=================================================================\n",
      " simple_rnn_4 (SimpleRNN)    (None, 100)               10200     \n",
      "                                                                 \n",
      " dense_4 (Dense)             (None, 1)                 101       \n",
      "                                                                 \n",
      "=================================================================\n",
      "Total params: 10,301\n",
      "Trainable params: 10,301\n",
      "Non-trainable params: 0\n",
      "_________________________________________________________________\n"
     ]
    }
   ],
   "source": [
    "# define RNN model\n",
    "model = create_rnn_model()\n",
    "\n",
    "# you can also try LSTM and see any performance difference from simple RNN\n",
    "# model = create_rnn_model( layer='LSTM' )\n",
    "\n",
    "model.summary()"
   ]
  },
  {
   "cell_type": "code",
   "execution_count": 72,
   "metadata": {
    "colab": {
     "base_uri": "https://localhost:8080/"
    },
    "executionInfo": {
     "elapsed": 69074,
     "status": "ok",
     "timestamp": 1674308472807,
     "user": {
      "displayName": "Yi Cao",
      "userId": "08364686972985899504"
     },
     "user_tz": 0
    },
    "id": "bvURWxxqEoGM",
    "outputId": "1d26587e-e49f-4ceb-e787-320b29b10bc7"
   },
   "outputs": [
    {
     "name": "stdout",
     "output_type": "stream",
     "text": [
      "CPU times: user 1min, sys: 4.07 s, total: 1min 4s\n",
      "Wall time: 1min 8s\n"
     ]
    }
   ],
   "source": [
    "# if using LSTM, be aware that a large epochs (i.e., 100 or 150) will be running for long time\n",
    "\n",
    "%%time\n",
    "h=model.fit(g, epochs=30, verbose=False)   # steps_per_epoch=10, "
   ]
  },
  {
   "cell_type": "code",
   "execution_count": 73,
   "metadata": {
    "colab": {
     "base_uri": "https://localhost:8080/",
     "height": 390
    },
    "executionInfo": {
     "elapsed": 923,
     "status": "ok",
     "timestamp": 1674308479396,
     "user": {
      "displayName": "Yi Cao",
      "userId": "08364686972985899504"
     },
     "user_tz": 0
    },
    "id": "uLVP2IKXG-Du",
    "outputId": "932fcb7b-15e6-4570-c46c-f0f3a51bd52f"
   },
   "outputs": [
    {
     "data": {
      "text/plain": [
       "<matplotlib.axes._subplots.AxesSubplot at 0x7f4a49771700>"
      ]
     },
     "execution_count": 73,
     "metadata": {},
     "output_type": "execute_result"
    },
    {
     "data": {
      "image/png": "[encoded data removed]",
      "text/plain": [
       "<Figure size 720x432 with 1 Axes>"
      ]
     },
     "metadata": {
      "needs_background": "light"
     },
     "output_type": "display_data"
    }
   ],
   "source": [
    "res = pd.DataFrame(h.history)\n",
    "res.plot(figsize=(10,6))"
   ]
  },
  {
   "cell_type": "code",
   "execution_count": 74,
   "metadata": {
    "colab": {
     "base_uri": "https://localhost:8080/",
     "height": 435
    },
    "executionInfo": {
     "elapsed": 3870,
     "status": "ok",
     "timestamp": 1674308488408,
     "user": {
      "displayName": "Yi Cao",
      "userId": "08364686972985899504"
     },
     "user_tz": 0
    },
    "id": "XItsOPJJEoGM",
    "outputId": "ee590900-9655-49de-ce5e-03665b992e3a"
   },
   "outputs": [
    {
     "name": "stdout",
     "output_type": "stream",
     "text": [
      "RNN Training MSE=0.0000001733 \n"
     ]
    },
    {
     "data": {
      "image/png": "[encoded data removed]",
      "text/plain": [
       "<Figure size 720x432 with 1 Axes>"
      ]
     },
     "metadata": {
      "needs_background": "light"
     },
     "output_type": "display_data"
    }
   ],
   "source": [
    "# test on the training data \n",
    "y = model.predict(g, verbose=False)\n",
    "\n",
    "# recover from the normalization\n",
    "y = (y.flatten()*train_std) + train_avg\n",
    "\n",
    "data['pred'] = np.nan\n",
    "data['pred'].iloc[lags:split] = y\n",
    "\n",
    "# calc the Mean Squared Error\n",
    "MSE = ((data.iloc[lags:split]['EUR_USD']-data.iloc[lags:split]['pred'])**2).mean()\n",
    "print(f'RNN Training MSE={MSE:.10f} ')\n",
    "\n",
    "# plot the raw and predicted values\n",
    "data[['EUR_USD', 'pred']].iloc[lags:split].plot(\n",
    "            figsize=(10, 6), style=['b', 'r-.'],\n",
    "            alpha=0.75);"
   ]
  },
  {
   "cell_type": "code",
   "execution_count": 75,
   "metadata": {
    "colab": {
     "base_uri": "https://localhost:8080/"
    },
    "executionInfo": {
     "elapsed": 177,
     "status": "ok",
     "timestamp": 1674308631066,
     "user": {
      "displayName": "Yi Cao",
      "userId": "08364686972985899504"
     },
     "user_tz": 0
    },
    "id": "4KITp7hFW-zT",
    "outputId": "eff3fa1b-18c3-4175-f718-a53d43b18b60"
   },
   "outputs": [
    {
     "name": "stdout",
     "output_type": "stream",
     "text": [
      "[[[0.2474]\n",
      "  [0.2634]\n",
      "  [0.3276]]\n",
      "\n",
      " [[0.2634]\n",
      "  [0.3276]\n",
      "  [0.2955]]\n",
      "\n",
      " [[0.3276]\n",
      "  [0.2955]\n",
      "  [0.2314]]\n",
      "\n",
      " [[0.2955]\n",
      "  [0.2314]\n",
      "  [0.1993]]\n",
      "\n",
      " [[0.2314]\n",
      "  [0.1993]\n",
      "  [0.3436]]] => [[0.2955]\n",
      " [0.2314]\n",
      " [0.1993]\n",
      " [0.3436]\n",
      " [0.3756]]\n"
     ]
    }
   ],
   "source": [
    "# test on the testing data \n",
    "\n",
    "# normalize by training mean and std\n",
    "test = (p[split:]-train_avg)/train_std\n",
    "test[:5]\n",
    "\n",
    "g_ = TimeseriesGenerator(test, test, length=lags, batch_size=5)\n",
    "\n",
    "# to print the first batch examples of generated X and y\n",
    "x,y = g_[0]\n",
    "print('%s => %s' % (x, y))"
   ]
  },
  {
   "cell_type": "code",
   "execution_count": 76,
   "metadata": {
    "colab": {
     "base_uri": "https://localhost:8080/",
     "height": 421
    },
    "executionInfo": {
     "elapsed": 1181,
     "status": "ok",
     "timestamp": 1674308640389,
     "user": {
      "displayName": "Yi Cao",
      "userId": "08364686972985899504"
     },
     "user_tz": 0
    },
    "id": "JwQ_JDkmcEkt",
    "outputId": "6e2c5265-e827-46d1-a40a-0c0d10731e7e"
   },
   "outputs": [
    {
     "name": "stdout",
     "output_type": "stream",
     "text": [
      "RNN Testing MSE=0.0000002010 \n"
     ]
    },
    {
     "data": {
      "image/png": "[encoded data removed]",
      "text/plain": [
       "<Figure size 720x432 with 1 Axes>"
      ]
     },
     "metadata": {
      "needs_background": "light"
     },
     "output_type": "display_data"
    }
   ],
   "source": [
    "# test on the testing data \n",
    "y = model.predict(g_, verbose=False)\n",
    "\n",
    "# recover from the normalization\n",
    "y = (y.flatten()*train_std) + train_avg\n",
    "\n",
    "# testing results also have lags\n",
    "data['pred'].iloc[split+lags:] = y\n",
    "\n",
    "MSE = ((data.iloc[split+lags:]['EUR_USD']-data.iloc[split+lags:]['pred'])**2).mean()\n",
    "print(f'RNN Testing MSE={MSE:.10f} ')\n",
    "\n",
    "data[['EUR_USD', 'pred']].iloc[split+lags:].plot(\n",
    "            figsize=(10, 6), style=['b', 'r-.'],\n",
    "            alpha=0.75);"
   ]
  },
  {
   "cell_type": "code",
   "execution_count": 77,
   "metadata": {
    "colab": {
     "base_uri": "https://localhost:8080/",
     "height": 431
    },
    "executionInfo": {
     "elapsed": 671,
     "status": "ok",
     "timestamp": 1674308648668,
     "user": {
      "displayName": "Yi Cao",
      "userId": "08364686972985899504"
     },
     "user_tz": 0
    },
    "id": "mBjaOjcbjfkE",
    "outputId": "1a70a656-9a51-4c8e-9a9d-e065b33ed966"
   },
   "outputs": [
    {
     "data": {
      "text/plain": [
       "<matplotlib.axes._subplots.AxesSubplot at 0x7f4a43450850>"
      ]
     },
     "execution_count": 77,
     "metadata": {},
     "output_type": "execute_result"
    },
    {
     "data": {
      "image/png": "[encoded data removed]",
      "text/plain": [
       "<Figure size 720x432 with 1 Axes>"
      ]
     },
     "metadata": {
      "needs_background": "light"
     },
     "output_type": "display_data"
    }
   ],
   "source": [
    "# testing errors\n",
    "test_error = ((data.iloc[split+lags:]['EUR_USD']-data.iloc[split+lags:]['pred'])**2)\n",
    "\n",
    "data['Tst_Error'] = np.nan\n",
    "data['Tst_Error'].iloc[split+lags:] = test_error\n",
    "data['Tst_Error'].iloc[split+lags:].plot( figsize=(10, 6) )"
   ]
  },
  {
   "cell_type": "markdown",
   "metadata": {
    "id": "tB1S_DqnGPmo"
   },
   "source": [
    "### Modelling FX return"
   ]
  },
  {
   "cell_type": "code",
   "execution_count": 78,
   "metadata": {
    "colab": {
     "base_uri": "https://localhost:8080/",
     "height": 612
    },
    "executionInfo": {
     "elapsed": 693,
     "status": "ok",
     "timestamp": 1674308747113,
     "user": {
      "displayName": "Yi Cao",
      "userId": "08364686972985899504"
     },
     "user_tz": 0
    },
    "id": "_26FncpxGRS6",
    "outputId": "1756e668-fd91-4aaa-e37d-0cb03b2df688"
   },
   "outputs": [
    {
     "data": {
      "text/html": [
       "\n",
       "  <div id=\"df-7070b9b5-8fc6-41e6-bc10-975eeff84a40\">\n",
       "    <div class=\"colab-df-container\">\n",
       "      <div>\n",
       "<style scoped>\n",
       "    .dataframe tbody tr th:only-of-type {\n",
       "        vertical-align: middle;\n",
       "    }\n",
       "\n",
       "    .dataframe tbody tr th {\n",
       "        vertical-align: top;\n",
       "    }\n",
       "\n",
       "    .dataframe thead th {\n",
       "        text-align: right;\n",
       "    }\n",
       "</style>\n",
       "<table border=\"1\" class=\"dataframe\">\n",
       "  <thead>\n",
       "    <tr style=\"text-align: right;\">\n",
       "      <th></th>\n",
       "      <th>EUR_USD</th>\n",
       "    </tr>\n",
       "    <tr>\n",
       "      <th>Date</th>\n",
       "      <th></th>\n",
       "    </tr>\n",
       "  </thead>\n",
       "  <tbody>\n",
       "    <tr>\n",
       "      <th>2019-10-01 02:00:00</th>\n",
       "      <td>1.0890</td>\n",
       "    </tr>\n",
       "    <tr>\n",
       "      <th>2019-10-01 04:00:00</th>\n",
       "      <td>1.0888</td>\n",
       "    </tr>\n",
       "    <tr>\n",
       "      <th>2019-10-01 06:00:00</th>\n",
       "      <td>1.0887</td>\n",
       "    </tr>\n",
       "    <tr>\n",
       "      <th>2019-10-01 08:00:00</th>\n",
       "      <td>1.0885</td>\n",
       "    </tr>\n",
       "    <tr>\n",
       "      <th>2019-10-01 10:00:00</th>\n",
       "      <td>1.0892</td>\n",
       "    </tr>\n",
       "  </tbody>\n",
       "</table>\n",
       "</div>\n",
       "      <button class=\"colab-df-convert\" onclick=\"convertToInteractive('df-7070b9b5-8fc6-41e6-bc10-975eeff84a40')\"\n",
       "              title=\"Convert this dataframe to an interactive table.\"\n",
       "              style=\"display:none;\">\n",
       "        \n",
       "  <svg xmlns=\"http://www.w3.org/2000/svg\" height=\"24px\"viewBox=\"0 0 24 24\"\n",
       "       width=\"24px\">\n",
       "    <path d=\"M0 0h24v24H0V0z\" fill=\"none\"/>\n",
       "    <path d=\"M18.56 5.44l.94 2.06.94-2.06 2.06-.94-2.06-.94-.94-2.06-.94 2.06-2.06.94zm-11 1L8.5 8.5l.94-2.06 2.06-.94-2.06-.94L8.5 2.5l-.94 2.06-2.06.94zm10 10l.94 2.06.94-2.06 2.06-.94-2.06-.94-.94-2.06-.94 2.06-2.06.94z\"/><path d=\"M17.41 7.96l-1.37-1.37c-.4-.4-.92-.59-1.43-.59-.52 0-1.04.2-1.43.59L10.3 9.45l-7.72 7.72c-.78.78-.78 2.05 0 2.83L4 21.41c.39.39.9.59 1.41.59.51 0 1.02-.2 1.41-.59l7.78-7.78 2.81-2.81c.8-.78.8-2.07 0-2.86zM5.41 20L4 18.59l7.72-7.72 1.47 1.35L5.41 20z\"/>\n",
       "  </svg>\n",
       "      </button>\n",
       "      \n",
       "  <style>\n",
       "    .colab-df-container {\n",
       "      display:flex;\n",
       "      flex-wrap:wrap;\n",
       "      gap: 12px;\n",
       "    }\n",
       "\n",
       "    .colab-df-convert {\n",
       "      background-color: #E8F0FE;\n",
       "      border: none;\n",
       "      border-radius: 50%;\n",
       "      cursor: pointer;\n",
       "      display: none;\n",
       "      fill: #1967D2;\n",
       "      height: 32px;\n",
       "      padding: 0 0 0 0;\n",
       "      width: 32px;\n",
       "    }\n",
       "\n",
       "    .colab-df-convert:hover {\n",
       "      background-color: #E2EBFA;\n",
       "      box-shadow: 0px 1px 2px rgba(60, 64, 67, 0.3), 0px 1px 3px 1px rgba(60, 64, 67, 0.15);\n",
       "      fill: #174EA6;\n",
       "    }\n",
       "\n",
       "    [theme=dark] .colab-df-convert {\n",
       "      background-color: #3B4455;\n",
       "      fill: #D2E3FC;\n",
       "    }\n",
       "\n",
       "    [theme=dark] .colab-df-convert:hover {\n",
       "      background-color: #434B5C;\n",
       "      box-shadow: 0px 1px 3px 1px rgba(0, 0, 0, 0.15);\n",
       "      filter: drop-shadow(0px 1px 2px rgba(0, 0, 0, 0.3));\n",
       "      fill: #FFFFFF;\n",
       "    }\n",
       "  </style>\n",
       "\n",
       "      <script>\n",
       "        const buttonEl =\n",
       "          document.querySelector('#df-7070b9b5-8fc6-41e6-bc10-975eeff84a40 button.colab-df-convert');\n",
       "        buttonEl.style.display =\n",
       "          google.colab.kernel.accessAllowed ? 'block' : 'none';\n",
       "\n",
       "        async function convertToInteractive(key) {\n",
       "          const element = document.querySelector('#df-7070b9b5-8fc6-41e6-bc10-975eeff84a40');\n",
       "          const dataTable =\n",
       "            await google.colab.kernel.invokeFunction('convertToInteractive',\n",
       "                                                     [key], {});\n",
       "          if (!dataTable) return;\n",
       "\n",
       "          const docLinkHtml = 'Like what you see? Visit the ' +\n",
       "            '<a target=\"_blank\" href=https://colab.research.google.com/notebooks/data_table.ipynb>data table notebook</a>'\n",
       "            + ' to learn more about interactive tables.';\n",
       "          element.innerHTML = '';\n",
       "          dataTable['output_type'] = 'display_data';\n",
       "          await google.colab.output.renderOutput(dataTable, element);\n",
       "          const docLink = document.createElement('div');\n",
       "          docLink.innerHTML = docLinkHtml;\n",
       "          element.appendChild(docLink);\n",
       "        }\n",
       "      </script>\n",
       "    </div>\n",
       "  </div>\n",
       "  "
      ],
      "text/plain": [
       "                     EUR_USD\n",
       "Date                        \n",
       "2019-10-01 02:00:00   1.0890\n",
       "2019-10-01 04:00:00   1.0888\n",
       "2019-10-01 06:00:00   1.0887\n",
       "2019-10-01 08:00:00   1.0885\n",
       "2019-10-01 10:00:00   1.0892"
      ]
     },
     "execution_count": 78,
     "metadata": {},
     "output_type": "execute_result"
    },
    {
     "data": {
      "image/png": "[encoded data removed]",
      "text/plain": [
       "<Figure size 720x432 with 1 Axes>"
      ]
     },
     "metadata": {
      "needs_background": "light"
     },
     "output_type": "display_data"
    }
   ],
   "source": [
    "# re-sampling the data\n",
    "freq = '2h'\n",
    "data = generate_data( freq )\n",
    "plot_fin_data(data.index, data[['EUR_USD']], 'EUR_USD '+freq)\n",
    "data.head()"
   ]
  },
  {
   "cell_type": "code",
   "execution_count": 79,
   "metadata": {
    "colab": {
     "base_uri": "https://localhost:8080/",
     "height": 238
    },
    "executionInfo": {
     "elapsed": 233,
     "status": "ok",
     "timestamp": 1674308750016,
     "user": {
      "displayName": "Yi Cao",
      "userId": "08364686972985899504"
     },
     "user_tz": 0
    },
    "id": "foERfqOoztf1",
    "outputId": "37694287-c4f9-4a34-d4f5-97c00e145252"
   },
   "outputs": [
    {
     "data": {
      "text/html": [
       "\n",
       "  <div id=\"df-b53f6f5f-7524-4ae3-abfb-2025a0febc93\">\n",
       "    <div class=\"colab-df-container\">\n",
       "      <div>\n",
       "<style scoped>\n",
       "    .dataframe tbody tr th:only-of-type {\n",
       "        vertical-align: middle;\n",
       "    }\n",
       "\n",
       "    .dataframe tbody tr th {\n",
       "        vertical-align: top;\n",
       "    }\n",
       "\n",
       "    .dataframe thead th {\n",
       "        text-align: right;\n",
       "    }\n",
       "</style>\n",
       "<table border=\"1\" class=\"dataframe\">\n",
       "  <thead>\n",
       "    <tr style=\"text-align: right;\">\n",
       "      <th></th>\n",
       "      <th>EUR_USD</th>\n",
       "      <th>r</th>\n",
       "    </tr>\n",
       "    <tr>\n",
       "      <th>Date</th>\n",
       "      <th></th>\n",
       "      <th></th>\n",
       "    </tr>\n",
       "  </thead>\n",
       "  <tbody>\n",
       "    <tr>\n",
       "      <th>2019-10-01 02:00:00</th>\n",
       "      <td>1.0890</td>\n",
       "      <td>NaN</td>\n",
       "    </tr>\n",
       "    <tr>\n",
       "      <th>2019-10-01 04:00:00</th>\n",
       "      <td>1.0888</td>\n",
       "      <td>-1.8367e-04</td>\n",
       "    </tr>\n",
       "    <tr>\n",
       "      <th>2019-10-01 06:00:00</th>\n",
       "      <td>1.0887</td>\n",
       "      <td>-9.1848e-05</td>\n",
       "    </tr>\n",
       "    <tr>\n",
       "      <th>2019-10-01 08:00:00</th>\n",
       "      <td>1.0885</td>\n",
       "      <td>-1.8372e-04</td>\n",
       "    </tr>\n",
       "    <tr>\n",
       "      <th>2019-10-01 10:00:00</th>\n",
       "      <td>1.0892</td>\n",
       "      <td>6.4288e-04</td>\n",
       "    </tr>\n",
       "  </tbody>\n",
       "</table>\n",
       "</div>\n",
       "      <button class=\"colab-df-convert\" onclick=\"convertToInteractive('df-b53f6f5f-7524-4ae3-abfb-2025a0febc93')\"\n",
       "              title=\"Convert this dataframe to an interactive table.\"\n",
       "              style=\"display:none;\">\n",
       "        \n",
       "  <svg xmlns=\"http://www.w3.org/2000/svg\" height=\"24px\"viewBox=\"0 0 24 24\"\n",
       "       width=\"24px\">\n",
       "    <path d=\"M0 0h24v24H0V0z\" fill=\"none\"/>\n",
       "    <path d=\"M18.56 5.44l.94 2.06.94-2.06 2.06-.94-2.06-.94-.94-2.06-.94 2.06-2.06.94zm-11 1L8.5 8.5l.94-2.06 2.06-.94-2.06-.94L8.5 2.5l-.94 2.06-2.06.94zm10 10l.94 2.06.94-2.06 2.06-.94-2.06-.94-.94-2.06-.94 2.06-2.06.94z\"/><path d=\"M17.41 7.96l-1.37-1.37c-.4-.4-.92-.59-1.43-.59-.52 0-1.04.2-1.43.59L10.3 9.45l-7.72 7.72c-.78.78-.78 2.05 0 2.83L4 21.41c.39.39.9.59 1.41.59.51 0 1.02-.2 1.41-.59l7.78-7.78 2.81-2.81c.8-.78.8-2.07 0-2.86zM5.41 20L4 18.59l7.72-7.72 1.47 1.35L5.41 20z\"/>\n",
       "  </svg>\n",
       "      </button>\n",
       "      \n",
       "  <style>\n",
       "    .colab-df-container {\n",
       "      display:flex;\n",
       "      flex-wrap:wrap;\n",
       "      gap: 12px;\n",
       "    }\n",
       "\n",
       "    .colab-df-convert {\n",
       "      background-color: #E8F0FE;\n",
       "      border: none;\n",
       "      border-radius: 50%;\n",
       "      cursor: pointer;\n",
       "      display: none;\n",
       "      fill: #1967D2;\n",
       "      height: 32px;\n",
       "      padding: 0 0 0 0;\n",
       "      width: 32px;\n",
       "    }\n",
       "\n",
       "    .colab-df-convert:hover {\n",
       "      background-color: #E2EBFA;\n",
       "      box-shadow: 0px 1px 2px rgba(60, 64, 67, 0.3), 0px 1px 3px 1px rgba(60, 64, 67, 0.15);\n",
       "      fill: #174EA6;\n",
       "    }\n",
       "\n",
       "    [theme=dark] .colab-df-convert {\n",
       "      background-color: #3B4455;\n",
       "      fill: #D2E3FC;\n",
       "    }\n",
       "\n",
       "    [theme=dark] .colab-df-convert:hover {\n",
       "      background-color: #434B5C;\n",
       "      box-shadow: 0px 1px 3px 1px rgba(0, 0, 0, 0.15);\n",
       "      filter: drop-shadow(0px 1px 2px rgba(0, 0, 0, 0.3));\n",
       "      fill: #FFFFFF;\n",
       "    }\n",
       "  </style>\n",
       "\n",
       "      <script>\n",
       "        const buttonEl =\n",
       "          document.querySelector('#df-b53f6f5f-7524-4ae3-abfb-2025a0febc93 button.colab-df-convert');\n",
       "        buttonEl.style.display =\n",
       "          google.colab.kernel.accessAllowed ? 'block' : 'none';\n",
       "\n",
       "        async function convertToInteractive(key) {\n",
       "          const element = document.querySelector('#df-b53f6f5f-7524-4ae3-abfb-2025a0febc93');\n",
       "          const dataTable =\n",
       "            await google.colab.kernel.invokeFunction('convertToInteractive',\n",
       "                                                     [key], {});\n",
       "          if (!dataTable) return;\n",
       "\n",
       "          const docLinkHtml = 'Like what you see? Visit the ' +\n",
       "            '<a target=\"_blank\" href=https://colab.research.google.com/notebooks/data_table.ipynb>data table notebook</a>'\n",
       "            + ' to learn more about interactive tables.';\n",
       "          element.innerHTML = '';\n",
       "          dataTable['output_type'] = 'display_data';\n",
       "          await google.colab.output.renderOutput(dataTable, element);\n",
       "          const docLink = document.createElement('div');\n",
       "          docLink.innerHTML = docLinkHtml;\n",
       "          element.appendChild(docLink);\n",
       "        }\n",
       "      </script>\n",
       "    </div>\n",
       "  </div>\n",
       "  "
      ],
      "text/plain": [
       "                     EUR_USD           r\n",
       "Date                                    \n",
       "2019-10-01 02:00:00   1.0890         NaN\n",
       "2019-10-01 04:00:00   1.0888 -1.8367e-04\n",
       "2019-10-01 06:00:00   1.0887 -9.1848e-05\n",
       "2019-10-01 08:00:00   1.0885 -1.8372e-04\n",
       "2019-10-01 10:00:00   1.0892  6.4288e-04"
      ]
     },
     "execution_count": 79,
     "metadata": {},
     "output_type": "execute_result"
    }
   ],
   "source": [
    "# calculate the log return\n",
    "data['r'] = np.log(data / data.shift(1))\n",
    "data.head()"
   ]
  },
  {
   "cell_type": "code",
   "execution_count": 80,
   "metadata": {
    "colab": {
     "base_uri": "https://localhost:8080/",
     "height": 238
    },
    "executionInfo": {
     "elapsed": 181,
     "status": "ok",
     "timestamp": 1674308756488,
     "user": {
      "displayName": "Yi Cao",
      "userId": "08364686972985899504"
     },
     "user_tz": 0
    },
    "id": "6iT5CVH_ztf1",
    "outputId": "aed4d862-8557-4d94-d8f2-c6475c1c61f9"
   },
   "outputs": [
    {
     "data": {
      "text/html": [
       "\n",
       "  <div id=\"df-3c1d8aaa-3880-4f28-9e34-b25b13da9b4e\">\n",
       "    <div class=\"colab-df-container\">\n",
       "      <div>\n",
       "<style scoped>\n",
       "    .dataframe tbody tr th:only-of-type {\n",
       "        vertical-align: middle;\n",
       "    }\n",
       "\n",
       "    .dataframe tbody tr th {\n",
       "        vertical-align: top;\n",
       "    }\n",
       "\n",
       "    .dataframe thead th {\n",
       "        text-align: right;\n",
       "    }\n",
       "</style>\n",
       "<table border=\"1\" class=\"dataframe\">\n",
       "  <thead>\n",
       "    <tr style=\"text-align: right;\">\n",
       "      <th></th>\n",
       "      <th>EUR_USD</th>\n",
       "      <th>r</th>\n",
       "    </tr>\n",
       "    <tr>\n",
       "      <th>Date</th>\n",
       "      <th></th>\n",
       "      <th></th>\n",
       "    </tr>\n",
       "  </thead>\n",
       "  <tbody>\n",
       "    <tr>\n",
       "      <th>2019-10-01 04:00:00</th>\n",
       "      <td>1.0888</td>\n",
       "      <td>-1.8367e-04</td>\n",
       "    </tr>\n",
       "    <tr>\n",
       "      <th>2019-10-01 06:00:00</th>\n",
       "      <td>1.0887</td>\n",
       "      <td>-9.1848e-05</td>\n",
       "    </tr>\n",
       "    <tr>\n",
       "      <th>2019-10-01 08:00:00</th>\n",
       "      <td>1.0885</td>\n",
       "      <td>-1.8372e-04</td>\n",
       "    </tr>\n",
       "    <tr>\n",
       "      <th>2019-10-01 10:00:00</th>\n",
       "      <td>1.0892</td>\n",
       "      <td>6.4288e-04</td>\n",
       "    </tr>\n",
       "    <tr>\n",
       "      <th>2019-10-01 12:00:00</th>\n",
       "      <td>1.0899</td>\n",
       "      <td>6.4247e-04</td>\n",
       "    </tr>\n",
       "  </tbody>\n",
       "</table>\n",
       "</div>\n",
       "      <button class=\"colab-df-convert\" onclick=\"convertToInteractive('df-3c1d8aaa-3880-4f28-9e34-b25b13da9b4e')\"\n",
       "              title=\"Convert this dataframe to an interactive table.\"\n",
       "              style=\"display:none;\">\n",
       "        \n",
       "  <svg xmlns=\"http://www.w3.org/2000/svg\" height=\"24px\"viewBox=\"0 0 24 24\"\n",
       "       width=\"24px\">\n",
       "    <path d=\"M0 0h24v24H0V0z\" fill=\"none\"/>\n",
       "    <path d=\"M18.56 5.44l.94 2.06.94-2.06 2.06-.94-2.06-.94-.94-2.06-.94 2.06-2.06.94zm-11 1L8.5 8.5l.94-2.06 2.06-.94-2.06-.94L8.5 2.5l-.94 2.06-2.06.94zm10 10l.94 2.06.94-2.06 2.06-.94-2.06-.94-.94-2.06-.94 2.06-2.06.94z\"/><path d=\"M17.41 7.96l-1.37-1.37c-.4-.4-.92-.59-1.43-.59-.52 0-1.04.2-1.43.59L10.3 9.45l-7.72 7.72c-.78.78-.78 2.05 0 2.83L4 21.41c.39.39.9.59 1.41.59.51 0 1.02-.2 1.41-.59l7.78-7.78 2.81-2.81c.8-.78.8-2.07 0-2.86zM5.41 20L4 18.59l7.72-7.72 1.47 1.35L5.41 20z\"/>\n",
       "  </svg>\n",
       "      </button>\n",
       "      \n",
       "  <style>\n",
       "    .colab-df-container {\n",
       "      display:flex;\n",
       "      flex-wrap:wrap;\n",
       "      gap: 12px;\n",
       "    }\n",
       "\n",
       "    .colab-df-convert {\n",
       "      background-color: #E8F0FE;\n",
       "      border: none;\n",
       "      border-radius: 50%;\n",
       "      cursor: pointer;\n",
       "      display: none;\n",
       "      fill: #1967D2;\n",
       "      height: 32px;\n",
       "      padding: 0 0 0 0;\n",
       "      width: 32px;\n",
       "    }\n",
       "\n",
       "    .colab-df-convert:hover {\n",
       "      background-color: #E2EBFA;\n",
       "      box-shadow: 0px 1px 2px rgba(60, 64, 67, 0.3), 0px 1px 3px 1px rgba(60, 64, 67, 0.15);\n",
       "      fill: #174EA6;\n",
       "    }\n",
       "\n",
       "    [theme=dark] .colab-df-convert {\n",
       "      background-color: #3B4455;\n",
       "      fill: #D2E3FC;\n",
       "    }\n",
       "\n",
       "    [theme=dark] .colab-df-convert:hover {\n",
       "      background-color: #434B5C;\n",
       "      box-shadow: 0px 1px 3px 1px rgba(0, 0, 0, 0.15);\n",
       "      filter: drop-shadow(0px 1px 2px rgba(0, 0, 0, 0.3));\n",
       "      fill: #FFFFFF;\n",
       "    }\n",
       "  </style>\n",
       "\n",
       "      <script>\n",
       "        const buttonEl =\n",
       "          document.querySelector('#df-3c1d8aaa-3880-4f28-9e34-b25b13da9b4e button.colab-df-convert');\n",
       "        buttonEl.style.display =\n",
       "          google.colab.kernel.accessAllowed ? 'block' : 'none';\n",
       "\n",
       "        async function convertToInteractive(key) {\n",
       "          const element = document.querySelector('#df-3c1d8aaa-3880-4f28-9e34-b25b13da9b4e');\n",
       "          const dataTable =\n",
       "            await google.colab.kernel.invokeFunction('convertToInteractive',\n",
       "                                                     [key], {});\n",
       "          if (!dataTable) return;\n",
       "\n",
       "          const docLinkHtml = 'Like what you see? Visit the ' +\n",
       "            '<a target=\"_blank\" href=https://colab.research.google.com/notebooks/data_table.ipynb>data table notebook</a>'\n",
       "            + ' to learn more about interactive tables.';\n",
       "          element.innerHTML = '';\n",
       "          dataTable['output_type'] = 'display_data';\n",
       "          await google.colab.output.renderOutput(dataTable, element);\n",
       "          const docLink = document.createElement('div');\n",
       "          docLink.innerHTML = docLinkHtml;\n",
       "          element.appendChild(docLink);\n",
       "        }\n",
       "      </script>\n",
       "    </div>\n",
       "  </div>\n",
       "  "
      ],
      "text/plain": [
       "                     EUR_USD           r\n",
       "Date                                    \n",
       "2019-10-01 04:00:00   1.0888 -1.8367e-04\n",
       "2019-10-01 06:00:00   1.0887 -9.1848e-05\n",
       "2019-10-01 08:00:00   1.0885 -1.8372e-04\n",
       "2019-10-01 10:00:00   1.0892  6.4288e-04\n",
       "2019-10-01 12:00:00   1.0899  6.4247e-04"
      ]
     },
     "execution_count": 80,
     "metadata": {},
     "output_type": "execute_result"
    }
   ],
   "source": [
    "# drop the row containing NaN \n",
    "data.dropna(inplace=True)\n",
    "data.head()"
   ]
  },
  {
   "cell_type": "code",
   "execution_count": 81,
   "metadata": {
    "colab": {
     "base_uri": "https://localhost:8080/",
     "height": 284
    },
    "executionInfo": {
     "elapsed": 500,
     "status": "ok",
     "timestamp": 1674308760589,
     "user": {
      "displayName": "Yi Cao",
      "userId": "08364686972985899504"
     },
     "user_tz": 0
    },
    "id": "ikQK5hVmztf1",
    "outputId": "a0104a1e-e5f9-4802-d79d-e26cf0d33f36"
   },
   "outputs": [
    {
     "data": {
      "text/plain": [
       "[<matplotlib.lines.Line2D at 0x7f4a432fb280>]"
      ]
     },
     "execution_count": 81,
     "metadata": {},
     "output_type": "execute_result"
    },
    {
     "data": {
      "image/png": "[encoded data removed]",
      "text/plain": [
       "<Figure size 432x288 with 1 Axes>"
      ]
     },
     "metadata": {
      "needs_background": "light"
     },
     "output_type": "display_data"
    }
   ],
   "source": [
    "r = data['r'].values\n",
    "plt.plot(r)"
   ]
  },
  {
   "cell_type": "code",
   "execution_count": 82,
   "metadata": {
    "colab": {
     "base_uri": "https://localhost:8080/"
    },
    "executionInfo": {
     "elapsed": 177,
     "status": "ok",
     "timestamp": 1674308768313,
     "user": {
      "displayName": "Yi Cao",
      "userId": "08364686972985899504"
     },
     "user_tz": 0
    },
    "id": "u-sL9aXMztf1",
    "outputId": "51fee659-19bd-4e02-c870-2012f5b1afc4"
   },
   "outputs": [
    {
     "data": {
      "text/plain": [
       "(1103, 1)"
      ]
     },
     "execution_count": 82,
     "metadata": {},
     "output_type": "execute_result"
    }
   ],
   "source": [
    "r = r.reshape((len(r), -1))\n",
    "r.shape"
   ]
  },
  {
   "cell_type": "code",
   "execution_count": 83,
   "metadata": {
    "executionInfo": {
     "elapsed": 182,
     "status": "ok",
     "timestamp": 1674308783981,
     "user": {
      "displayName": "Yi Cao",
      "userId": "08364686972985899504"
     },
     "user_tz": 0
    },
    "id": "32Cwbuw9nT2Z"
   },
   "outputs": [],
   "source": [
    "# split is the break point; first 70% for training, remained 30% for testing\n",
    "split = int(len(r)*0.7)"
   ]
  },
  {
   "cell_type": "code",
   "execution_count": 84,
   "metadata": {
    "colab": {
     "base_uri": "https://localhost:8080/"
    },
    "executionInfo": {
     "elapsed": 188,
     "status": "ok",
     "timestamp": 1674308785335,
     "user": {
      "displayName": "Yi Cao",
      "userId": "08364686972985899504"
     },
     "user_tz": 0
    },
    "id": "iHzAPcsknr7G",
    "outputId": "482fe84c-3b4f-4ef6-a416-fa3fbf45c4af"
   },
   "outputs": [
    {
     "data": {
      "text/plain": [
       "array([[-0.3156],\n",
       "       [-0.1742],\n",
       "       [-0.3156],\n",
       "       [ 0.9574],\n",
       "       [ 0.9567],\n",
       "       [-1.8707]])"
      ]
     },
     "execution_count": 84,
     "metadata": {},
     "output_type": "execute_result"
    }
   ],
   "source": [
    "r_train_avg = r[:split].mean()\n",
    "r_train_std = r[:split].std()\n",
    "\n",
    "# normalize by mean and std of training data\n",
    "r_train = (r[:split]-r_train_avg)/r_train_std\n",
    "\n",
    "r_train[:6]"
   ]
  },
  {
   "cell_type": "code",
   "execution_count": 85,
   "metadata": {
    "colab": {
     "base_uri": "https://localhost:8080/"
    },
    "executionInfo": {
     "elapsed": 255,
     "status": "ok",
     "timestamp": 1674308788279,
     "user": {
      "displayName": "Yi Cao",
      "userId": "08364686972985899504"
     },
     "user_tz": 0
    },
    "id": "tLrwGwBcztf1",
    "outputId": "7699ea01-ae79-4814-952b-cafa0c06542e"
   },
   "outputs": [
    {
     "name": "stdout",
     "output_type": "stream",
     "text": [
      "[[[-0.3156]\n",
      "  [-0.1742]\n",
      "  [-0.3156]]\n",
      "\n",
      " [[-0.1742]\n",
      "  [-0.3156]\n",
      "  [ 0.9574]]\n",
      "\n",
      " [[-0.3156]\n",
      "  [ 0.9574]\n",
      "  [ 0.9567]]\n",
      "\n",
      " [[ 0.9574]\n",
      "  [ 0.9567]\n",
      "  [-1.8707]]\n",
      "\n",
      " [[ 0.9567]\n",
      "  [-1.8707]\n",
      "  [ 6.3203]]] => [[ 0.9574]\n",
      " [ 0.9567]\n",
      " [-1.8707]\n",
      " [ 6.3203]\n",
      " [-0.1736]]\n"
     ]
    }
   ],
   "source": [
    "g_r = TimeseriesGenerator(r_train, r_train, length=lags, batch_size=5)\n",
    "\n",
    "x,y = g_r[0]\n",
    "print('%s => %s' % (x, y))    "
   ]
  },
  {
   "cell_type": "code",
   "execution_count": 86,
   "metadata": {
    "colab": {
     "base_uri": "https://localhost:8080/"
    },
    "executionInfo": {
     "elapsed": 188,
     "status": "ok",
     "timestamp": 1674308793532,
     "user": {
      "displayName": "Yi Cao",
      "userId": "08364686972985899504"
     },
     "user_tz": 0
    },
    "id": "QVXcG2s3ztf2",
    "outputId": "cf713136-c16c-4d01-aeb1-51d20ec498c8"
   },
   "outputs": [
    {
     "name": "stdout",
     "output_type": "stream",
     "text": [
      "Model: \"sequential_5\"\n",
      "_________________________________________________________________\n",
      " Layer (type)                Output Shape              Param #   \n",
      "=================================================================\n",
      " simple_rnn_5 (SimpleRNN)    (None, 100)               10200     \n",
      "                                                                 \n",
      " dense_5 (Dense)             (None, 1)                 101       \n",
      "                                                                 \n",
      "=================================================================\n",
      "Total params: 10,301\n",
      "Trainable params: 10,301\n",
      "Non-trainable params: 0\n",
      "_________________________________________________________________\n"
     ]
    }
   ],
   "source": [
    "model_rtn = create_rnn_model()\n",
    "model_rtn.summary()"
   ]
  },
  {
   "cell_type": "code",
   "execution_count": 87,
   "metadata": {
    "colab": {
     "base_uri": "https://localhost:8080/"
    },
    "executionInfo": {
     "elapsed": 31541,
     "status": "ok",
     "timestamp": 1674308834582,
     "user": {
      "displayName": "Yi Cao",
      "userId": "08364686972985899504"
     },
     "user_tz": 0
    },
    "id": "at9rOSJpztf2",
    "outputId": "5eae6f80-abcb-4b30-e49e-c79a343792fb"
   },
   "outputs": [
    {
     "name": "stdout",
     "output_type": "stream",
     "text": [
      "CPU times: user 27.6 s, sys: 1.68 s, total: 29.2 s\n",
      "Wall time: 31.4 s\n"
     ]
    },
    {
     "data": {
      "text/plain": [
       "<keras.callbacks.History at 0x7f4a432d37c0>"
      ]
     },
     "execution_count": 87,
     "metadata": {},
     "output_type": "execute_result"
    }
   ],
   "source": [
    "%%time\n",
    "model_rtn.fit(g_r, epochs=50, verbose=False)"
   ]
  },
  {
   "cell_type": "code",
   "execution_count": 88,
   "metadata": {
    "colab": {
     "base_uri": "https://localhost:8080/"
    },
    "executionInfo": {
     "elapsed": 887,
     "status": "ok",
     "timestamp": 1674308839134,
     "user": {
      "displayName": "Yi Cao",
      "userId": "08364686972985899504"
     },
     "user_tz": 0
    },
    "id": "6S0MR4Bjztf2",
    "outputId": "4252c06f-2e94-422b-dd33-d425fd061076"
   },
   "outputs": [
    {
     "data": {
      "text/plain": [
       "array([ 0.0002,  0.0002, -0.0005,  0.001 , -0.0002,  0.0005, -0.0002,\n",
       "       -0.0001, -0.0001, -0.0002], dtype=float32)"
      ]
     },
     "execution_count": 88,
     "metadata": {},
     "output_type": "execute_result"
    }
   ],
   "source": [
    "# test the model by training data \n",
    "y_rtn = model_rtn.predict(g_r, verbose=False)\n",
    "\n",
    "# recover from the normalization\n",
    "y_rtn = (y_rtn.flatten()*r_train_std) + r_train_avg\n",
    "y_rtn[:10]"
   ]
  },
  {
   "cell_type": "code",
   "execution_count": 89,
   "metadata": {
    "colab": {
     "base_uri": "https://localhost:8080/"
    },
    "executionInfo": {
     "elapsed": 189,
     "status": "ok",
     "timestamp": 1674308841359,
     "user": {
      "displayName": "Yi Cao",
      "userId": "08364686972985899504"
     },
     "user_tz": 0
    },
    "id": "-JzOMYo5ztf2",
    "outputId": "235154ba-f7f2-47f7-c8b0-8d31c48778da"
   },
   "outputs": [
    {
     "name": "stdout",
     "output_type": "stream",
     "text": [
      "RNN return Training MSE=0.00000033922265248122 \n"
     ]
    }
   ],
   "source": [
    "data['pred'] = np.nan\n",
    "data['pred'].iloc[lags:split] = y_rtn\n",
    "\n",
    "MSE = ((data.iloc[lags:split]['r']-data.iloc[lags:split]['pred'])**2).mean()\n",
    "\n",
    "# MSE = ((data['EUR_USD']-data['pred'])**2).iloc[lags:].mean()\n",
    "print(f'RNN return Training MSE={MSE:.20f} ')"
   ]
  },
  {
   "cell_type": "code",
   "execution_count": 90,
   "metadata": {
    "colab": {
     "base_uri": "https://localhost:8080/",
     "height": 404
    },
    "executionInfo": {
     "elapsed": 587,
     "status": "ok",
     "timestamp": 1674308844520,
     "user": {
      "displayName": "Yi Cao",
      "userId": "08364686972985899504"
     },
     "user_tz": 0
    },
    "id": "wJR3N0R0ztf2",
    "outputId": "4daa5d37-ef87-4efd-d9f0-2d9e97acbd2d"
   },
   "outputs": [
    {
     "data": {
      "image/png": "[encoded data removed]",
      "text/plain": [
       "<Figure size 720x432 with 1 Axes>"
      ]
     },
     "metadata": {
      "needs_background": "light"
     },
     "output_type": "display_data"
    }
   ],
   "source": [
    "data[['r', 'pred']].iloc[50:100].plot(\n",
    "            figsize=(10, 6), style=['b', 'r-.'],\n",
    "            alpha=0.75);\n",
    "plt.axhline(0, c='grey', ls='--');"
   ]
  },
  {
   "cell_type": "code",
   "execution_count": 91,
   "metadata": {
    "colab": {
     "base_uri": "https://localhost:8080/",
     "height": 281
    },
    "executionInfo": {
     "elapsed": 841,
     "status": "ok",
     "timestamp": 1674308848843,
     "user": {
      "displayName": "Yi Cao",
      "userId": "08364686972985899504"
     },
     "user_tz": 0
    },
    "id": "u1nb_Tu0ztf3",
    "outputId": "90d42aaa-74b1-4721-b7dd-58061f8cac1a"
   },
   "outputs": [
    {
     "data": {
      "text/plain": [
       "[<matplotlib.lines.Line2D at 0x7f4a4a887880>]"
      ]
     },
     "execution_count": 91,
     "metadata": {},
     "output_type": "execute_result"
    },
    {
     "data": {
      "image/png": "[encoded data removed]",
      "text/plain": [
       "<Figure size 432x288 with 1 Axes>"
      ]
     },
     "metadata": {
      "needs_background": "light"
     },
     "output_type": "display_data"
    }
   ],
   "source": [
    "# using test data\n",
    "\n",
    "# normalize the test data by training mean and std\n",
    "r_test = (r[split:]-r_train_avg)/r_train_std\n",
    "plt.plot(r_test)"
   ]
  },
  {
   "cell_type": "code",
   "execution_count": 92,
   "metadata": {
    "colab": {
     "base_uri": "https://localhost:8080/"
    },
    "executionInfo": {
     "elapsed": 174,
     "status": "ok",
     "timestamp": 1674308853622,
     "user": {
      "displayName": "Yi Cao",
      "userId": "08364686972985899504"
     },
     "user_tz": 0
    },
    "id": "T-5YXQXZr3vB",
    "outputId": "1b74a0e2-ac0b-4035-f9b1-ee2f0426376b"
   },
   "outputs": [
    {
     "name": "stdout",
     "output_type": "stream",
     "text": [
      "[[[-0.5893]\n",
      "  [ 5.3853]\n",
      "  [-2.9477]]\n",
      "\n",
      " [[ 5.3853]\n",
      "  [-2.9477]\n",
      "  [-1.2837]]\n",
      "\n",
      " [[-2.9477]\n",
      "  [-1.2837]\n",
      "  [-0.4499]]\n",
      "\n",
      " [[-1.2837]\n",
      "  [-0.4499]\n",
      "  [ 0.6626]]\n",
      "\n",
      " [[-0.4499]\n",
      "  [ 0.6626]\n",
      "  [ 0.6623]]] => [[-1.2837]\n",
      " [-0.4499]\n",
      " [ 0.6626]\n",
      " [ 0.6623]\n",
      " [-0.0327]]\n"
     ]
    }
   ],
   "source": [
    "g_r_ = TimeseriesGenerator(r_test, r_test, length=lags, batch_size=5)\n",
    "\n",
    "# to print the first example of generated X and y\n",
    "x,y = g_r_[0]\n",
    "print('%s => %s' % (x, y))"
   ]
  },
  {
   "cell_type": "code",
   "execution_count": 93,
   "metadata": {
    "colab": {
     "base_uri": "https://localhost:8080/"
    },
    "executionInfo": {
     "elapsed": 466,
     "status": "ok",
     "timestamp": 1674308865198,
     "user": {
      "displayName": "Yi Cao",
      "userId": "08364686972985899504"
     },
     "user_tz": 0
    },
    "id": "wEiYo8WrsJ11",
    "outputId": "a47baa58-0676-47f8-fecb-05b693d0cf07"
   },
   "outputs": [
    {
     "data": {
      "text/plain": [
       "array([-0.    , -0.0005, -0.0002, -0.0001, -0.0004,  0.0001,  0.    ,\n",
       "        0.    , -0.    ,  0.0002], dtype=float32)"
      ]
     },
     "execution_count": 93,
     "metadata": {},
     "output_type": "execute_result"
    }
   ],
   "source": [
    "# test the model by training data \n",
    "y_rtn_ = model_rtn.predict(g_r_, verbose=False)\n",
    "\n",
    "# recover from the normalization\n",
    "y_rtn_ = (y_rtn_.flatten()*r_train_std) + r_train_avg\n",
    "y_rtn_[:10]"
   ]
  },
  {
   "cell_type": "code",
   "execution_count": 94,
   "metadata": {
    "colab": {
     "base_uri": "https://localhost:8080/"
    },
    "executionInfo": {
     "elapsed": 179,
     "status": "ok",
     "timestamp": 1674308883619,
     "user": {
      "displayName": "Yi Cao",
      "userId": "08364686972985899504"
     },
     "user_tz": 0
    },
    "id": "P_rKnlAhsWog",
    "outputId": "dd5f31b6-2aee-42ee-fdf0-e409ee6fe1b4"
   },
   "outputs": [
    {
     "name": "stdout",
     "output_type": "stream",
     "text": [
      "RNN return Test MSE=0.00000048836771335804 \n"
     ]
    }
   ],
   "source": [
    "data['pred'].iloc[split+lags:] = y_rtn_\n",
    "\n",
    "MSE = ((data.iloc[split+lags:]['r']-data.iloc[split+lags:]['pred'])**2).mean()\n",
    "\n",
    "# MSE = ((data['EUR_USD']-data['pred'])**2).iloc[lags:].mean()\n",
    "print(f'RNN return Test MSE={MSE:.20f} ')"
   ]
  },
  {
   "cell_type": "code",
   "execution_count": 95,
   "metadata": {
    "colab": {
     "base_uri": "https://localhost:8080/",
     "height": 408
    },
    "executionInfo": {
     "elapsed": 839,
     "status": "ok",
     "timestamp": 1674308887162,
     "user": {
      "displayName": "Yi Cao",
      "userId": "08364686972985899504"
     },
     "user_tz": 0
    },
    "id": "5WenpvGvskPN",
    "outputId": "c8b43310-bf5c-47cc-9e58-861a48edeb0e"
   },
   "outputs": [
    {
     "data": {
      "image/png": "[encoded data removed]",
      "text/plain": [
       "<Figure size 720x432 with 1 Axes>"
      ]
     },
     "metadata": {
      "needs_background": "light"
     },
     "output_type": "display_data"
    }
   ],
   "source": [
    "# plot the last 200 items\n",
    "\n",
    "data[['r', 'pred']].iloc[-200:].plot(\n",
    "            figsize=(10, 6), style=['b', 'r-.'],\n",
    "            alpha=0.75);\n",
    "plt.axhline(0, c='grey', ls='--');"
   ]
  },
  {
   "cell_type": "markdown",
   "metadata": {
    "id": "JLUj_k7S1QIq"
   },
   "source": [
    "### Modelling Financial Features by RNN / LSTM"
   ]
  },
  {
   "cell_type": "code",
   "execution_count": 96,
   "metadata": {
    "colab": {
     "base_uri": "https://localhost:8080/",
     "height": 612
    },
    "executionInfo": {
     "elapsed": 396,
     "status": "ok",
     "timestamp": 1674308897595,
     "user": {
      "displayName": "Yi Cao",
      "userId": "08364686972985899504"
     },
     "user_tz": 0
    },
    "id": "YEXGl27k1TqW",
    "outputId": "18ab1f28-db79-477f-b7aa-51c64344bdc7"
   },
   "outputs": [
    {
     "data": {
      "text/html": [
       "\n",
       "  <div id=\"df-ae4d9a96-e163-4db4-8e5e-e62b9a5515cc\">\n",
       "    <div class=\"colab-df-container\">\n",
       "      <div>\n",
       "<style scoped>\n",
       "    .dataframe tbody tr th:only-of-type {\n",
       "        vertical-align: middle;\n",
       "    }\n",
       "\n",
       "    .dataframe tbody tr th {\n",
       "        vertical-align: top;\n",
       "    }\n",
       "\n",
       "    .dataframe thead th {\n",
       "        text-align: right;\n",
       "    }\n",
       "</style>\n",
       "<table border=\"1\" class=\"dataframe\">\n",
       "  <thead>\n",
       "    <tr style=\"text-align: right;\">\n",
       "      <th></th>\n",
       "      <th>EUR_USD</th>\n",
       "    </tr>\n",
       "    <tr>\n",
       "      <th>Date</th>\n",
       "      <th></th>\n",
       "    </tr>\n",
       "  </thead>\n",
       "  <tbody>\n",
       "    <tr>\n",
       "      <th>2019-10-01 00:30:00</th>\n",
       "      <td>1.0899</td>\n",
       "    </tr>\n",
       "    <tr>\n",
       "      <th>2019-10-01 01:00:00</th>\n",
       "      <td>1.0896</td>\n",
       "    </tr>\n",
       "    <tr>\n",
       "      <th>2019-10-01 01:30:00</th>\n",
       "      <td>1.0892</td>\n",
       "    </tr>\n",
       "    <tr>\n",
       "      <th>2019-10-01 02:00:00</th>\n",
       "      <td>1.0890</td>\n",
       "    </tr>\n",
       "    <tr>\n",
       "      <th>2019-10-01 02:30:00</th>\n",
       "      <td>1.0886</td>\n",
       "    </tr>\n",
       "  </tbody>\n",
       "</table>\n",
       "</div>\n",
       "      <button class=\"colab-df-convert\" onclick=\"convertToInteractive('df-ae4d9a96-e163-4db4-8e5e-e62b9a5515cc')\"\n",
       "              title=\"Convert this dataframe to an interactive table.\"\n",
       "              style=\"display:none;\">\n",
       "        \n",
       "  <svg xmlns=\"http://www.w3.org/2000/svg\" height=\"24px\"viewBox=\"0 0 24 24\"\n",
       "       width=\"24px\">\n",
       "    <path d=\"M0 0h24v24H0V0z\" fill=\"none\"/>\n",
       "    <path d=\"M18.56 5.44l.94 2.06.94-2.06 2.06-.94-2.06-.94-.94-2.06-.94 2.06-2.06.94zm-11 1L8.5 8.5l.94-2.06 2.06-.94-2.06-.94L8.5 2.5l-.94 2.06-2.06.94zm10 10l.94 2.06.94-2.06 2.06-.94-2.06-.94-.94-2.06-.94 2.06-2.06.94z\"/><path d=\"M17.41 7.96l-1.37-1.37c-.4-.4-.92-.59-1.43-.59-.52 0-1.04.2-1.43.59L10.3 9.45l-7.72 7.72c-.78.78-.78 2.05 0 2.83L4 21.41c.39.39.9.59 1.41.59.51 0 1.02-.2 1.41-.59l7.78-7.78 2.81-2.81c.8-.78.8-2.07 0-2.86zM5.41 20L4 18.59l7.72-7.72 1.47 1.35L5.41 20z\"/>\n",
       "  </svg>\n",
       "      </button>\n",
       "      \n",
       "  <style>\n",
       "    .colab-df-container {\n",
       "      display:flex;\n",
       "      flex-wrap:wrap;\n",
       "      gap: 12px;\n",
       "    }\n",
       "\n",
       "    .colab-df-convert {\n",
       "      background-color: #E8F0FE;\n",
       "      border: none;\n",
       "      border-radius: 50%;\n",
       "      cursor: pointer;\n",
       "      display: none;\n",
       "      fill: #1967D2;\n",
       "      height: 32px;\n",
       "      padding: 0 0 0 0;\n",
       "      width: 32px;\n",
       "    }\n",
       "\n",
       "    .colab-df-convert:hover {\n",
       "      background-color: #E2EBFA;\n",
       "      box-shadow: 0px 1px 2px rgba(60, 64, 67, 0.3), 0px 1px 3px 1px rgba(60, 64, 67, 0.15);\n",
       "      fill: #174EA6;\n",
       "    }\n",
       "\n",
       "    [theme=dark] .colab-df-convert {\n",
       "      background-color: #3B4455;\n",
       "      fill: #D2E3FC;\n",
       "    }\n",
       "\n",
       "    [theme=dark] .colab-df-convert:hover {\n",
       "      background-color: #434B5C;\n",
       "      box-shadow: 0px 1px 3px 1px rgba(0, 0, 0, 0.15);\n",
       "      filter: drop-shadow(0px 1px 2px rgba(0, 0, 0, 0.3));\n",
       "      fill: #FFFFFF;\n",
       "    }\n",
       "  </style>\n",
       "\n",
       "      <script>\n",
       "        const buttonEl =\n",
       "          document.querySelector('#df-ae4d9a96-e163-4db4-8e5e-e62b9a5515cc button.colab-df-convert');\n",
       "        buttonEl.style.display =\n",
       "          google.colab.kernel.accessAllowed ? 'block' : 'none';\n",
       "\n",
       "        async function convertToInteractive(key) {\n",
       "          const element = document.querySelector('#df-ae4d9a96-e163-4db4-8e5e-e62b9a5515cc');\n",
       "          const dataTable =\n",
       "            await google.colab.kernel.invokeFunction('convertToInteractive',\n",
       "                                                     [key], {});\n",
       "          if (!dataTable) return;\n",
       "\n",
       "          const docLinkHtml = 'Like what you see? Visit the ' +\n",
       "            '<a target=\"_blank\" href=https://colab.research.google.com/notebooks/data_table.ipynb>data table notebook</a>'\n",
       "            + ' to learn more about interactive tables.';\n",
       "          element.innerHTML = '';\n",
       "          dataTable['output_type'] = 'display_data';\n",
       "          await google.colab.output.renderOutput(dataTable, element);\n",
       "          const docLink = document.createElement('div');\n",
       "          docLink.innerHTML = docLinkHtml;\n",
       "          element.appendChild(docLink);\n",
       "        }\n",
       "      </script>\n",
       "    </div>\n",
       "  </div>\n",
       "  "
      ],
      "text/plain": [
       "                     EUR_USD\n",
       "Date                        \n",
       "2019-10-01 00:30:00   1.0899\n",
       "2019-10-01 01:00:00   1.0896\n",
       "2019-10-01 01:30:00   1.0892\n",
       "2019-10-01 02:00:00   1.0890\n",
       "2019-10-01 02:30:00   1.0886"
      ]
     },
     "execution_count": 96,
     "metadata": {},
     "output_type": "execute_result"
    },
    {
     "data": {
      "image/png": "[encoded data removed]",
      "text/plain": [
       "<Figure size 720x432 with 1 Axes>"
      ]
     },
     "metadata": {
      "needs_background": "light"
     },
     "output_type": "display_data"
    }
   ],
   "source": [
    "# re-sampling the data\n",
    "freq = '30min'\n",
    "data = generate_data( freq )\n",
    "plot_fin_data(data.index, data[['EUR_USD']], 'EUR_USD '+freq)\n",
    "data.head()"
   ]
  },
  {
   "cell_type": "code",
   "execution_count": 97,
   "metadata": {
    "executionInfo": {
     "elapsed": 188,
     "status": "ok",
     "timestamp": 1674308900833,
     "user": {
      "displayName": "Yi Cao",
      "userId": "08364686972985899504"
     },
     "user_tz": 0
    },
    "id": "3mQmKlooHWnN"
   },
   "outputs": [],
   "source": [
    "data['r'] = np.log(data / data.shift(1))"
   ]
  },
  {
   "cell_type": "code",
   "execution_count": 98,
   "metadata": {
    "colab": {
     "base_uri": "https://localhost:8080/",
     "height": 865
    },
    "executionInfo": {
     "elapsed": 195,
     "status": "ok",
     "timestamp": 1674308901832,
     "user": {
      "displayName": "Yi Cao",
      "userId": "08364686972985899504"
     },
     "user_tz": 0
    },
    "id": "pxtSPLurHWnN",
    "outputId": "0ca410da-b684-410c-ad28-ac717dafc317"
   },
   "outputs": [
    {
     "data": {
      "text/html": [
       "\n",
       "  <div id=\"df-8c589b79-49dd-4041-a6d2-43f224692abe\">\n",
       "    <div class=\"colab-df-container\">\n",
       "      <div>\n",
       "<style scoped>\n",
       "    .dataframe tbody tr th:only-of-type {\n",
       "        vertical-align: middle;\n",
       "    }\n",
       "\n",
       "    .dataframe tbody tr th {\n",
       "        vertical-align: top;\n",
       "    }\n",
       "\n",
       "    .dataframe thead th {\n",
       "        text-align: right;\n",
       "    }\n",
       "</style>\n",
       "<table border=\"1\" class=\"dataframe\">\n",
       "  <thead>\n",
       "    <tr style=\"text-align: right;\">\n",
       "      <th></th>\n",
       "      <th>EUR_USD</th>\n",
       "      <th>r</th>\n",
       "      <th>mom</th>\n",
       "      <th>vol</th>\n",
       "    </tr>\n",
       "    <tr>\n",
       "      <th>Date</th>\n",
       "      <th></th>\n",
       "      <th></th>\n",
       "      <th></th>\n",
       "      <th></th>\n",
       "    </tr>\n",
       "  </thead>\n",
       "  <tbody>\n",
       "    <tr>\n",
       "      <th>2019-10-01 00:30:00</th>\n",
       "      <td>1.0899</td>\n",
       "      <td>NaN</td>\n",
       "      <td>NaN</td>\n",
       "      <td>NaN</td>\n",
       "    </tr>\n",
       "    <tr>\n",
       "      <th>2019-10-01 01:00:00</th>\n",
       "      <td>1.0896</td>\n",
       "      <td>-2.7529e-04</td>\n",
       "      <td>NaN</td>\n",
       "      <td>NaN</td>\n",
       "    </tr>\n",
       "    <tr>\n",
       "      <th>2019-10-01 01:30:00</th>\n",
       "      <td>1.0892</td>\n",
       "      <td>-3.6717e-04</td>\n",
       "      <td>NaN</td>\n",
       "      <td>NaN</td>\n",
       "    </tr>\n",
       "    <tr>\n",
       "      <th>2019-10-01 02:00:00</th>\n",
       "      <td>1.0890</td>\n",
       "      <td>-1.8364e-04</td>\n",
       "      <td>NaN</td>\n",
       "      <td>NaN</td>\n",
       "    </tr>\n",
       "    <tr>\n",
       "      <th>2019-10-01 02:30:00</th>\n",
       "      <td>1.0886</td>\n",
       "      <td>-3.6738e-04</td>\n",
       "      <td>NaN</td>\n",
       "      <td>NaN</td>\n",
       "    </tr>\n",
       "    <tr>\n",
       "      <th>2019-10-01 03:00:00</th>\n",
       "      <td>1.0886</td>\n",
       "      <td>0.0000e+00</td>\n",
       "      <td>NaN</td>\n",
       "      <td>NaN</td>\n",
       "    </tr>\n",
       "    <tr>\n",
       "      <th>2019-10-01 03:30:00</th>\n",
       "      <td>1.0886</td>\n",
       "      <td>0.0000e+00</td>\n",
       "      <td>NaN</td>\n",
       "      <td>NaN</td>\n",
       "    </tr>\n",
       "    <tr>\n",
       "      <th>2019-10-01 04:00:00</th>\n",
       "      <td>1.0888</td>\n",
       "      <td>1.8371e-04</td>\n",
       "      <td>NaN</td>\n",
       "      <td>NaN</td>\n",
       "    </tr>\n",
       "    <tr>\n",
       "      <th>2019-10-01 04:30:00</th>\n",
       "      <td>1.0890</td>\n",
       "      <td>1.8367e-04</td>\n",
       "      <td>NaN</td>\n",
       "      <td>NaN</td>\n",
       "    </tr>\n",
       "    <tr>\n",
       "      <th>2019-10-01 05:00:00</th>\n",
       "      <td>1.0889</td>\n",
       "      <td>-9.1832e-05</td>\n",
       "      <td>NaN</td>\n",
       "      <td>NaN</td>\n",
       "    </tr>\n",
       "    <tr>\n",
       "      <th>2019-10-01 05:30:00</th>\n",
       "      <td>1.0890</td>\n",
       "      <td>9.1832e-05</td>\n",
       "      <td>NaN</td>\n",
       "      <td>NaN</td>\n",
       "    </tr>\n",
       "    <tr>\n",
       "      <th>2019-10-01 06:00:00</th>\n",
       "      <td>1.0887</td>\n",
       "      <td>-2.7552e-04</td>\n",
       "      <td>NaN</td>\n",
       "      <td>NaN</td>\n",
       "    </tr>\n",
       "    <tr>\n",
       "      <th>2019-10-01 06:30:00</th>\n",
       "      <td>1.0884</td>\n",
       "      <td>-2.7560e-04</td>\n",
       "      <td>NaN</td>\n",
       "      <td>NaN</td>\n",
       "    </tr>\n",
       "    <tr>\n",
       "      <th>2019-10-01 07:00:00</th>\n",
       "      <td>1.0879</td>\n",
       "      <td>-4.5950e-04</td>\n",
       "      <td>NaN</td>\n",
       "      <td>NaN</td>\n",
       "    </tr>\n",
       "    <tr>\n",
       "      <th>2019-10-01 07:30:00</th>\n",
       "      <td>1.0888</td>\n",
       "      <td>8.2694e-04</td>\n",
       "      <td>NaN</td>\n",
       "      <td>NaN</td>\n",
       "    </tr>\n",
       "    <tr>\n",
       "      <th>2019-10-01 08:00:00</th>\n",
       "      <td>1.0885</td>\n",
       "      <td>-2.7557e-04</td>\n",
       "      <td>NaN</td>\n",
       "      <td>NaN</td>\n",
       "    </tr>\n",
       "    <tr>\n",
       "      <th>2019-10-01 08:30:00</th>\n",
       "      <td>1.0891</td>\n",
       "      <td>5.5107e-04</td>\n",
       "      <td>NaN</td>\n",
       "      <td>NaN</td>\n",
       "    </tr>\n",
       "    <tr>\n",
       "      <th>2019-10-01 09:00:00</th>\n",
       "      <td>1.0892</td>\n",
       "      <td>9.1815e-05</td>\n",
       "      <td>NaN</td>\n",
       "      <td>NaN</td>\n",
       "    </tr>\n",
       "    <tr>\n",
       "      <th>2019-10-01 09:30:00</th>\n",
       "      <td>1.0897</td>\n",
       "      <td>4.5895e-04</td>\n",
       "      <td>NaN</td>\n",
       "      <td>NaN</td>\n",
       "    </tr>\n",
       "    <tr>\n",
       "      <th>2019-10-01 10:00:00</th>\n",
       "      <td>1.0892</td>\n",
       "      <td>-4.5895e-04</td>\n",
       "      <td>NaN</td>\n",
       "      <td>NaN</td>\n",
       "    </tr>\n",
       "    <tr>\n",
       "      <th>2019-10-01 10:30:00</th>\n",
       "      <td>1.0900</td>\n",
       "      <td>7.3421e-04</td>\n",
       "      <td>4.5874e-06</td>\n",
       "      <td>0.0004</td>\n",
       "    </tr>\n",
       "    <tr>\n",
       "      <th>2019-10-01 11:00:00</th>\n",
       "      <td>1.0899</td>\n",
       "      <td>-9.1747e-05</td>\n",
       "      <td>1.3765e-05</td>\n",
       "      <td>0.0004</td>\n",
       "    </tr>\n",
       "    <tr>\n",
       "      <th>2019-10-01 11:30:00</th>\n",
       "      <td>1.0905</td>\n",
       "      <td>5.5036e-04</td>\n",
       "      <td>5.9641e-05</td>\n",
       "      <td>0.0004</td>\n",
       "    </tr>\n",
       "    <tr>\n",
       "      <th>2019-10-01 12:00:00</th>\n",
       "      <td>1.0899</td>\n",
       "      <td>-5.5036e-04</td>\n",
       "      <td>4.1305e-05</td>\n",
       "      <td>0.0004</td>\n",
       "    </tr>\n",
       "    <tr>\n",
       "      <th>2019-10-01 12:30:00</th>\n",
       "      <td>1.0893</td>\n",
       "      <td>-5.5066e-04</td>\n",
       "      <td>3.2141e-05</td>\n",
       "      <td>0.0004</td>\n",
       "    </tr>\n",
       "  </tbody>\n",
       "</table>\n",
       "</div>\n",
       "      <button class=\"colab-df-convert\" onclick=\"convertToInteractive('df-8c589b79-49dd-4041-a6d2-43f224692abe')\"\n",
       "              title=\"Convert this dataframe to an interactive table.\"\n",
       "              style=\"display:none;\">\n",
       "        \n",
       "  <svg xmlns=\"http://www.w3.org/2000/svg\" height=\"24px\"viewBox=\"0 0 24 24\"\n",
       "       width=\"24px\">\n",
       "    <path d=\"M0 0h24v24H0V0z\" fill=\"none\"/>\n",
       "    <path d=\"M18.56 5.44l.94 2.06.94-2.06 2.06-.94-2.06-.94-.94-2.06-.94 2.06-2.06.94zm-11 1L8.5 8.5l.94-2.06 2.06-.94-2.06-.94L8.5 2.5l-.94 2.06-2.06.94zm10 10l.94 2.06.94-2.06 2.06-.94-2.06-.94-.94-2.06-.94 2.06-2.06.94z\"/><path d=\"M17.41 7.96l-1.37-1.37c-.4-.4-.92-.59-1.43-.59-.52 0-1.04.2-1.43.59L10.3 9.45l-7.72 7.72c-.78.78-.78 2.05 0 2.83L4 21.41c.39.39.9.59 1.41.59.51 0 1.02-.2 1.41-.59l7.78-7.78 2.81-2.81c.8-.78.8-2.07 0-2.86zM5.41 20L4 18.59l7.72-7.72 1.47 1.35L5.41 20z\"/>\n",
       "  </svg>\n",
       "      </button>\n",
       "      \n",
       "  <style>\n",
       "    .colab-df-container {\n",
       "      display:flex;\n",
       "      flex-wrap:wrap;\n",
       "      gap: 12px;\n",
       "    }\n",
       "\n",
       "    .colab-df-convert {\n",
       "      background-color: #E8F0FE;\n",
       "      border: none;\n",
       "      border-radius: 50%;\n",
       "      cursor: pointer;\n",
       "      display: none;\n",
       "      fill: #1967D2;\n",
       "      height: 32px;\n",
       "      padding: 0 0 0 0;\n",
       "      width: 32px;\n",
       "    }\n",
       "\n",
       "    .colab-df-convert:hover {\n",
       "      background-color: #E2EBFA;\n",
       "      box-shadow: 0px 1px 2px rgba(60, 64, 67, 0.3), 0px 1px 3px 1px rgba(60, 64, 67, 0.15);\n",
       "      fill: #174EA6;\n",
       "    }\n",
       "\n",
       "    [theme=dark] .colab-df-convert {\n",
       "      background-color: #3B4455;\n",
       "      fill: #D2E3FC;\n",
       "    }\n",
       "\n",
       "    [theme=dark] .colab-df-convert:hover {\n",
       "      background-color: #434B5C;\n",
       "      box-shadow: 0px 1px 3px 1px rgba(0, 0, 0, 0.15);\n",
       "      filter: drop-shadow(0px 1px 2px rgba(0, 0, 0, 0.3));\n",
       "      fill: #FFFFFF;\n",
       "    }\n",
       "  </style>\n",
       "\n",
       "      <script>\n",
       "        const buttonEl =\n",
       "          document.querySelector('#df-8c589b79-49dd-4041-a6d2-43f224692abe button.colab-df-convert');\n",
       "        buttonEl.style.display =\n",
       "          google.colab.kernel.accessAllowed ? 'block' : 'none';\n",
       "\n",
       "        async function convertToInteractive(key) {\n",
       "          const element = document.querySelector('#df-8c589b79-49dd-4041-a6d2-43f224692abe');\n",
       "          const dataTable =\n",
       "            await google.colab.kernel.invokeFunction('convertToInteractive',\n",
       "                                                     [key], {});\n",
       "          if (!dataTable) return;\n",
       "\n",
       "          const docLinkHtml = 'Like what you see? Visit the ' +\n",
       "            '<a target=\"_blank\" href=https://colab.research.google.com/notebooks/data_table.ipynb>data table notebook</a>'\n",
       "            + ' to learn more about interactive tables.';\n",
       "          element.innerHTML = '';\n",
       "          dataTable['output_type'] = 'display_data';\n",
       "          await google.colab.output.renderOutput(dataTable, element);\n",
       "          const docLink = document.createElement('div');\n",
       "          docLink.innerHTML = docLinkHtml;\n",
       "          element.appendChild(docLink);\n",
       "        }\n",
       "      </script>\n",
       "    </div>\n",
       "  </div>\n",
       "  "
      ],
      "text/plain": [
       "                     EUR_USD           r         mom     vol\n",
       "Date                                                        \n",
       "2019-10-01 00:30:00   1.0899         NaN         NaN     NaN\n",
       "2019-10-01 01:00:00   1.0896 -2.7529e-04         NaN     NaN\n",
       "2019-10-01 01:30:00   1.0892 -3.6717e-04         NaN     NaN\n",
       "2019-10-01 02:00:00   1.0890 -1.8364e-04         NaN     NaN\n",
       "2019-10-01 02:30:00   1.0886 -3.6738e-04         NaN     NaN\n",
       "2019-10-01 03:00:00   1.0886  0.0000e+00         NaN     NaN\n",
       "2019-10-01 03:30:00   1.0886  0.0000e+00         NaN     NaN\n",
       "2019-10-01 04:00:00   1.0888  1.8371e-04         NaN     NaN\n",
       "2019-10-01 04:30:00   1.0890  1.8367e-04         NaN     NaN\n",
       "2019-10-01 05:00:00   1.0889 -9.1832e-05         NaN     NaN\n",
       "2019-10-01 05:30:00   1.0890  9.1832e-05         NaN     NaN\n",
       "2019-10-01 06:00:00   1.0887 -2.7552e-04         NaN     NaN\n",
       "2019-10-01 06:30:00   1.0884 -2.7560e-04         NaN     NaN\n",
       "2019-10-01 07:00:00   1.0879 -4.5950e-04         NaN     NaN\n",
       "2019-10-01 07:30:00   1.0888  8.2694e-04         NaN     NaN\n",
       "2019-10-01 08:00:00   1.0885 -2.7557e-04         NaN     NaN\n",
       "2019-10-01 08:30:00   1.0891  5.5107e-04         NaN     NaN\n",
       "2019-10-01 09:00:00   1.0892  9.1815e-05         NaN     NaN\n",
       "2019-10-01 09:30:00   1.0897  4.5895e-04         NaN     NaN\n",
       "2019-10-01 10:00:00   1.0892 -4.5895e-04         NaN     NaN\n",
       "2019-10-01 10:30:00   1.0900  7.3421e-04  4.5874e-06  0.0004\n",
       "2019-10-01 11:00:00   1.0899 -9.1747e-05  1.3765e-05  0.0004\n",
       "2019-10-01 11:30:00   1.0905  5.5036e-04  5.9641e-05  0.0004\n",
       "2019-10-01 12:00:00   1.0899 -5.5036e-04  4.1305e-05  0.0004\n",
       "2019-10-01 12:30:00   1.0893 -5.5066e-04  3.2141e-05  0.0004"
      ]
     },
     "execution_count": 98,
     "metadata": {},
     "output_type": "execute_result"
    }
   ],
   "source": [
    "# calculating the sliding window feature\n",
    "window = 20\n",
    "# momentum of past 20 intervals\n",
    "data['mom'] = data['r'].rolling(window).mean()\n",
    "# volatility in past 20 intervals\n",
    "data['vol'] = data['r'].rolling(window).std()\n",
    "# \n",
    "data.head(window+5)"
   ]
  },
  {
   "cell_type": "code",
   "execution_count": 99,
   "metadata": {
    "colab": {
     "base_uri": "https://localhost:8080/",
     "height": 238
    },
    "executionInfo": {
     "elapsed": 207,
     "status": "ok",
     "timestamp": 1674308914297,
     "user": {
      "displayName": "Yi Cao",
      "userId": "08364686972985899504"
     },
     "user_tz": 0
    },
    "id": "kIHHujXuHWnN",
    "outputId": "01e7fdfa-b8d2-4db3-837d-f927083d36c8"
   },
   "outputs": [
    {
     "data": {
      "text/html": [
       "\n",
       "  <div id=\"df-99e9f916-0157-4eaa-ab8f-7471f2fb3fe1\">\n",
       "    <div class=\"colab-df-container\">\n",
       "      <div>\n",
       "<style scoped>\n",
       "    .dataframe tbody tr th:only-of-type {\n",
       "        vertical-align: middle;\n",
       "    }\n",
       "\n",
       "    .dataframe tbody tr th {\n",
       "        vertical-align: top;\n",
       "    }\n",
       "\n",
       "    .dataframe thead th {\n",
       "        text-align: right;\n",
       "    }\n",
       "</style>\n",
       "<table border=\"1\" class=\"dataframe\">\n",
       "  <thead>\n",
       "    <tr style=\"text-align: right;\">\n",
       "      <th></th>\n",
       "      <th>EUR_USD</th>\n",
       "      <th>r</th>\n",
       "      <th>mom</th>\n",
       "      <th>vol</th>\n",
       "    </tr>\n",
       "    <tr>\n",
       "      <th>Date</th>\n",
       "      <th></th>\n",
       "      <th></th>\n",
       "      <th></th>\n",
       "      <th></th>\n",
       "    </tr>\n",
       "  </thead>\n",
       "  <tbody>\n",
       "    <tr>\n",
       "      <th>2019-10-01 10:30:00</th>\n",
       "      <td>1.0900</td>\n",
       "      <td>7.3421e-04</td>\n",
       "      <td>4.5874e-06</td>\n",
       "      <td>0.0004</td>\n",
       "    </tr>\n",
       "    <tr>\n",
       "      <th>2019-10-01 11:00:00</th>\n",
       "      <td>1.0899</td>\n",
       "      <td>-9.1747e-05</td>\n",
       "      <td>1.3765e-05</td>\n",
       "      <td>0.0004</td>\n",
       "    </tr>\n",
       "    <tr>\n",
       "      <th>2019-10-01 11:30:00</th>\n",
       "      <td>1.0905</td>\n",
       "      <td>5.5036e-04</td>\n",
       "      <td>5.9641e-05</td>\n",
       "      <td>0.0004</td>\n",
       "    </tr>\n",
       "    <tr>\n",
       "      <th>2019-10-01 12:00:00</th>\n",
       "      <td>1.0899</td>\n",
       "      <td>-5.5036e-04</td>\n",
       "      <td>4.1305e-05</td>\n",
       "      <td>0.0004</td>\n",
       "    </tr>\n",
       "    <tr>\n",
       "      <th>2019-10-01 12:30:00</th>\n",
       "      <td>1.0893</td>\n",
       "      <td>-5.5066e-04</td>\n",
       "      <td>3.2141e-05</td>\n",
       "      <td>0.0004</td>\n",
       "    </tr>\n",
       "  </tbody>\n",
       "</table>\n",
       "</div>\n",
       "      <button class=\"colab-df-convert\" onclick=\"convertToInteractive('df-99e9f916-0157-4eaa-ab8f-7471f2fb3fe1')\"\n",
       "              title=\"Convert this dataframe to an interactive table.\"\n",
       "              style=\"display:none;\">\n",
       "        \n",
       "  <svg xmlns=\"http://www.w3.org/2000/svg\" height=\"24px\"viewBox=\"0 0 24 24\"\n",
       "       width=\"24px\">\n",
       "    <path d=\"M0 0h24v24H0V0z\" fill=\"none\"/>\n",
       "    <path d=\"M18.56 5.44l.94 2.06.94-2.06 2.06-.94-2.06-.94-.94-2.06-.94 2.06-2.06.94zm-11 1L8.5 8.5l.94-2.06 2.06-.94-2.06-.94L8.5 2.5l-.94 2.06-2.06.94zm10 10l.94 2.06.94-2.06 2.06-.94-2.06-.94-.94-2.06-.94 2.06-2.06.94z\"/><path d=\"M17.41 7.96l-1.37-1.37c-.4-.4-.92-.59-1.43-.59-.52 0-1.04.2-1.43.59L10.3 9.45l-7.72 7.72c-.78.78-.78 2.05 0 2.83L4 21.41c.39.39.9.59 1.41.59.51 0 1.02-.2 1.41-.59l7.78-7.78 2.81-2.81c.8-.78.8-2.07 0-2.86zM5.41 20L4 18.59l7.72-7.72 1.47 1.35L5.41 20z\"/>\n",
       "  </svg>\n",
       "      </button>\n",
       "      \n",
       "  <style>\n",
       "    .colab-df-container {\n",
       "      display:flex;\n",
       "      flex-wrap:wrap;\n",
       "      gap: 12px;\n",
       "    }\n",
       "\n",
       "    .colab-df-convert {\n",
       "      background-color: #E8F0FE;\n",
       "      border: none;\n",
       "      border-radius: 50%;\n",
       "      cursor: pointer;\n",
       "      display: none;\n",
       "      fill: #1967D2;\n",
       "      height: 32px;\n",
       "      padding: 0 0 0 0;\n",
       "      width: 32px;\n",
       "    }\n",
       "\n",
       "    .colab-df-convert:hover {\n",
       "      background-color: #E2EBFA;\n",
       "      box-shadow: 0px 1px 2px rgba(60, 64, 67, 0.3), 0px 1px 3px 1px rgba(60, 64, 67, 0.15);\n",
       "      fill: #174EA6;\n",
       "    }\n",
       "\n",
       "    [theme=dark] .colab-df-convert {\n",
       "      background-color: #3B4455;\n",
       "      fill: #D2E3FC;\n",
       "    }\n",
       "\n",
       "    [theme=dark] .colab-df-convert:hover {\n",
       "      background-color: #434B5C;\n",
       "      box-shadow: 0px 1px 3px 1px rgba(0, 0, 0, 0.15);\n",
       "      filter: drop-shadow(0px 1px 2px rgba(0, 0, 0, 0.3));\n",
       "      fill: #FFFFFF;\n",
       "    }\n",
       "  </style>\n",
       "\n",
       "      <script>\n",
       "        const buttonEl =\n",
       "          document.querySelector('#df-99e9f916-0157-4eaa-ab8f-7471f2fb3fe1 button.colab-df-convert');\n",
       "        buttonEl.style.display =\n",
       "          google.colab.kernel.accessAllowed ? 'block' : 'none';\n",
       "\n",
       "        async function convertToInteractive(key) {\n",
       "          const element = document.querySelector('#df-99e9f916-0157-4eaa-ab8f-7471f2fb3fe1');\n",
       "          const dataTable =\n",
       "            await google.colab.kernel.invokeFunction('convertToInteractive',\n",
       "                                                     [key], {});\n",
       "          if (!dataTable) return;\n",
       "\n",
       "          const docLinkHtml = 'Like what you see? Visit the ' +\n",
       "            '<a target=\"_blank\" href=https://colab.research.google.com/notebooks/data_table.ipynb>data table notebook</a>'\n",
       "            + ' to learn more about interactive tables.';\n",
       "          element.innerHTML = '';\n",
       "          dataTable['output_type'] = 'display_data';\n",
       "          await google.colab.output.renderOutput(dataTable, element);\n",
       "          const docLink = document.createElement('div');\n",
       "          docLink.innerHTML = docLinkHtml;\n",
       "          element.appendChild(docLink);\n",
       "        }\n",
       "      </script>\n",
       "    </div>\n",
       "  </div>\n",
       "  "
      ],
      "text/plain": [
       "                     EUR_USD           r         mom     vol\n",
       "Date                                                        \n",
       "2019-10-01 10:30:00   1.0900  7.3421e-04  4.5874e-06  0.0004\n",
       "2019-10-01 11:00:00   1.0899 -9.1747e-05  1.3765e-05  0.0004\n",
       "2019-10-01 11:30:00   1.0905  5.5036e-04  5.9641e-05  0.0004\n",
       "2019-10-01 12:00:00   1.0899 -5.5036e-04  4.1305e-05  0.0004\n",
       "2019-10-01 12:30:00   1.0893 -5.5066e-04  3.2141e-05  0.0004"
      ]
     },
     "execution_count": 99,
     "metadata": {},
     "output_type": "execute_result"
    }
   ],
   "source": [
    "# remove the NaN\n",
    "data.dropna(inplace=True)\n",
    "data.head()"
   ]
  },
  {
   "cell_type": "code",
   "execution_count": 100,
   "metadata": {
    "executionInfo": {
     "elapsed": 179,
     "status": "ok",
     "timestamp": 1674308923505,
     "user": {
      "displayName": "Yi Cao",
      "userId": "08364686972985899504"
     },
     "user_tz": 0
    },
    "id": "LAZu_qjsHWnO"
   },
   "outputs": [],
   "source": [
    "split = int(len(data) * 0.7)"
   ]
  },
  {
   "cell_type": "code",
   "execution_count": 101,
   "metadata": {
    "colab": {
     "base_uri": "https://localhost:8080/"
    },
    "executionInfo": {
     "elapsed": 265,
     "status": "ok",
     "timestamp": 1674308925572,
     "user": {
      "displayName": "Yi Cao",
      "userId": "08364686972985899504"
     },
     "user_tz": 0
    },
    "id": "wH27FbXxtmwC",
    "outputId": "8d1f2adb-f82d-43f7-aaec-592a6ef1c9ed"
   },
   "outputs": [
    {
     "name": "stdout",
     "output_type": "stream",
     "text": [
      "EUR_USD    1.1055e+00\n",
      "r          5.1524e-06\n",
      "mom        5.4826e-06\n",
      "vol        2.8782e-04\n",
      "dtype: float64\n",
      "EUR_USD    6.1117e-03\n",
      "r          3.5653e-04\n",
      "mom        6.9604e-05\n",
      "vol        2.1397e-04\n",
      "dtype: float64\n",
      "                     EUR_USD       r     mom     vol\n",
      "Date                                                \n",
      "2019-10-01 10:30:00  -2.5306  2.0449 -0.0129  0.4676\n",
      "2019-10-01 11:00:00  -2.5470 -0.2718  0.1190  0.4450\n",
      "2019-10-01 11:30:00  -2.4488  1.5292  0.7781  0.4771\n",
      "2019-10-01 12:00:00  -2.5470 -1.5581  0.5147  0.5712\n",
      "2019-10-01 12:30:00  -2.6452 -1.5590  0.3830  0.6250\n",
      "                     EUR_USD       r     mom     vol\n",
      "Date                                                \n",
      "2019-12-04 12:30:00   0.3327  2.2658 -0.3382  0.5451\n",
      "2019-12-04 13:00:00   0.3655  0.4920 -0.2085  0.5565\n",
      "2019-12-04 13:30:00   0.5127  2.2635  0.3750  0.7414\n",
      "2019-12-04 14:00:00   0.8236  4.7885  1.6699  1.3747\n",
      "2019-12-04 14:30:00   0.7745 -0.7723  1.6704  1.3746\n"
     ]
    }
   ],
   "source": [
    "# construct and normalize training and testing dataset\n",
    "f_train_mu = data.iloc[:split].mean()\n",
    "f_train_vol = data.iloc[:split].std()\n",
    "print(f_train_mu)\n",
    "print(f_train_vol)\n",
    "\n",
    "f_train_data = (data.iloc[:split]-f_train_mu)/f_train_vol\n",
    "f_test_data = (data.iloc[split:]-f_train_mu)/f_train_vol\n",
    "\n",
    "print(f_train_data.head())\n",
    "print(f_test_data.head())"
   ]
  },
  {
   "cell_type": "code",
   "execution_count": 102,
   "metadata": {
    "colab": {
     "base_uri": "https://localhost:8080/"
    },
    "executionInfo": {
     "elapsed": 184,
     "status": "ok",
     "timestamp": 1674308935020,
     "user": {
      "displayName": "Yi Cao",
      "userId": "08364686972985899504"
     },
     "user_tz": 0
    },
    "id": "HfQOEGMewD2t",
    "outputId": "085ad522-b32a-49bc-e50b-d21dc6cb8e0b"
   },
   "outputs": [
    {
     "data": {
      "text/plain": [
       "array([[-2.5306,  2.0449, -0.0129,  0.4676],\n",
       "       [-2.547 , -0.2718,  0.119 ,  0.445 ],\n",
       "       [-2.4488,  1.5292,  0.7781,  0.4771],\n",
       "       [-2.547 , -1.5581,  0.5147,  0.5712],\n",
       "       [-2.6452, -1.559 ,  0.383 ,  0.625 ],\n",
       "       [-2.6124,  0.5005,  0.5149,  0.6309],\n",
       "       [-2.6288, -0.2719,  0.4489,  0.6354],\n",
       "       [-2.7597, -2.0749, -0.2107,  0.784 ],\n",
       "       [-2.4161,  5.3911,  1.0417,  1.5919],\n",
       "       [-2.2852,  2.0421,  1.6344,  1.6628]])"
      ]
     },
     "execution_count": 102,
     "metadata": {},
     "output_type": "execute_result"
    }
   ],
   "source": [
    "f_train_data.values[:10]"
   ]
  },
  {
   "cell_type": "code",
   "execution_count": 103,
   "metadata": {
    "colab": {
     "base_uri": "https://localhost:8080/"
    },
    "executionInfo": {
     "elapsed": 201,
     "status": "ok",
     "timestamp": 1674309299870,
     "user": {
      "displayName": "Yi Cao",
      "userId": "08364686972985899504"
     },
     "user_tz": 0
    },
    "id": "VjnB-M4VHWnP",
    "outputId": "b112a3ed-7b39-45fb-debe-ff7516d89c34"
   },
   "outputs": [
    {
     "name": "stdout",
     "output_type": "stream",
     "text": [
      "[[[-2.4488  1.5292  0.7781  0.4771]\n",
      "  [-2.547  -1.5581  0.5147  0.5712]\n",
      "  [-2.6452 -1.559   0.383   0.625 ]]\n",
      "\n",
      " [[-2.547  -1.5581  0.5147  0.5712]\n",
      "  [-2.6452 -1.559   0.383   0.625 ]\n",
      "  [-2.6124  0.5005  0.5149  0.6309]]] => [ 0.5005 -0.2719]\n"
     ]
    }
   ],
   "source": [
    "# make 5-lagged features as the X\n",
    "''' batch_size is batch size defines the number samples that will be fed in each iteration of the model.\n",
    "The difference between the different values of batch size are the model weight's optimization. \n",
    "If batch size is equal to 3, the model update the weights only after reading 3 samples.\n",
    "'''\n",
    "\n",
    "g_f = TimeseriesGenerator(f_train_data.values, f_train_data['r'].values,\n",
    "                        length=lags, batch_size=2)\n",
    "\n",
    "# to print the first example of generated X and y\n",
    "'''\n",
    "                                X               y\n",
    "[[[-2.5306  2.0449 -0.0129  0.4676]\n",
    "  [-2.547  -0.2718  0.119   0.445 ]\n",
    "  [-2.4488  1.5292  0.7781  0.4771]\n",
    "  [-2.547  -1.5581  0.5147  0.5712]\n",
    "  [-2.6452 -1.559   0.383   0.625 ]]        0.5005\n",
    "to forecast 6-th return 0.5005\n",
    "all features in prior 5 points are required\n",
    "'''\n",
    "x,y = g_f[1]\n",
    "print('%s => %s' % (x, y))"
   ]
  },
  {
   "cell_type": "code",
   "execution_count": 104,
   "metadata": {
    "colab": {
     "base_uri": "https://localhost:8080/"
    },
    "executionInfo": {
     "elapsed": 180,
     "status": "ok",
     "timestamp": 1674309333617,
     "user": {
      "displayName": "Yi Cao",
      "userId": "08364686972985899504"
     },
     "user_tz": 0
    },
    "id": "ARL2rvEeHWnP",
    "outputId": "76b9be55-c3ea-4554-d57c-a8d0cf831093"
   },
   "outputs": [
    {
     "name": "stdout",
     "output_type": "stream",
     "text": [
      "Model: \"sequential_6\"\n",
      "_________________________________________________________________\n",
      " Layer (type)                Output Shape              Param #   \n",
      "=================================================================\n",
      " simple_rnn_6 (SimpleRNN)    (None, 100)               10500     \n",
      "                                                                 \n",
      " dense_6 (Dense)             (None, 1)                 101       \n",
      "                                                                 \n",
      "=================================================================\n",
      "Total params: 10,601\n",
      "Trainable params: 10,601\n",
      "Non-trainable params: 0\n",
      "_________________________________________________________________\n"
     ]
    }
   ],
   "source": [
    "set_seeds()\n",
    "model_f = create_rnn_model( features=len(f_train_data.columns) )\n",
    "model_f.summary()"
   ]
  },
  {
   "cell_type": "code",
   "execution_count": 105,
   "metadata": {
    "colab": {
     "base_uri": "https://localhost:8080/"
    },
    "executionInfo": {
     "elapsed": 44898,
     "status": "ok",
     "timestamp": 1674309381213,
     "user": {
      "displayName": "Yi Cao",
      "userId": "08364686972985899504"
     },
     "user_tz": 0
    },
    "id": "u85agnwrHWnP",
    "outputId": "f997defa-b6f5-4680-f330-5a1dc2a4a4c7"
   },
   "outputs": [
    {
     "name": "stdout",
     "output_type": "stream",
     "text": [
      "CPU times: user 50.9 s, sys: 3.1 s, total: 54 s\n",
      "Wall time: 44.7 s\n"
     ]
    },
    {
     "data": {
      "text/plain": [
       "<keras.callbacks.History at 0x7f4a4b879ac0>"
      ]
     },
     "execution_count": 105,
     "metadata": {},
     "output_type": "execute_result"
    }
   ],
   "source": [
    "# you may revise epochs=100 for better accuracy with training time longer than 10min\n",
    "%%time\n",
    "model_f.fit(g_f, epochs=10, verbose=False)"
   ]
  },
  {
   "cell_type": "code",
   "execution_count": 106,
   "metadata": {
    "executionInfo": {
     "elapsed": 190,
     "status": "ok",
     "timestamp": 1674309406175,
     "user": {
      "displayName": "Yi Cao",
      "userId": "08364686972985899504"
     },
     "user_tz": 0
    },
    "id": "iTJtvyPBHWnQ"
   },
   "outputs": [],
   "source": [
    "# construct data for testing\n",
    "\n",
    "g_f_ = TimeseriesGenerator(f_test_data.values, f_test_data['r'].values,\n",
    "                         length=lags, batch_size=2)"
   ]
  },
  {
   "cell_type": "code",
   "execution_count": 107,
   "metadata": {
    "colab": {
     "base_uri": "https://localhost:8080/",
     "height": 290
    },
    "executionInfo": {
     "elapsed": 5502,
     "status": "ok",
     "timestamp": 1674309413645,
     "user": {
      "displayName": "Yi Cao",
      "userId": "08364686972985899504"
     },
     "user_tz": 0
    },
    "id": "zNFUKdF6HWnQ",
    "outputId": "5ea87a4c-7e5b-4fd9-9577-6bbfc8711680"
   },
   "outputs": [
    {
     "name": "stdout",
     "output_type": "stream",
     "text": [
      "658/658 [==============================] - 3s 4ms/step\n",
      "[-0.      0.0003 -0.0003  0.0001  0.0004]\n",
      "RNN return Test MSE=0.00000013433158523540 \n"
     ]
    },
    {
     "data": {
      "text/html": [
       "\n",
       "  <div id=\"df-3e6728c3-ca50-4dc1-b2e8-12dac7f26eca\">\n",
       "    <div class=\"colab-df-container\">\n",
       "      <div>\n",
       "<style scoped>\n",
       "    .dataframe tbody tr th:only-of-type {\n",
       "        vertical-align: middle;\n",
       "    }\n",
       "\n",
       "    .dataframe tbody tr th {\n",
       "        vertical-align: top;\n",
       "    }\n",
       "\n",
       "    .dataframe thead th {\n",
       "        text-align: right;\n",
       "    }\n",
       "</style>\n",
       "<table border=\"1\" class=\"dataframe\">\n",
       "  <thead>\n",
       "    <tr style=\"text-align: right;\">\n",
       "      <th></th>\n",
       "      <th>EUR_USD</th>\n",
       "      <th>r</th>\n",
       "      <th>mom</th>\n",
       "      <th>vol</th>\n",
       "      <th>pred</th>\n",
       "    </tr>\n",
       "    <tr>\n",
       "      <th>Date</th>\n",
       "      <th></th>\n",
       "      <th></th>\n",
       "      <th></th>\n",
       "      <th></th>\n",
       "      <th></th>\n",
       "    </tr>\n",
       "  </thead>\n",
       "  <tbody>\n",
       "    <tr>\n",
       "      <th>2019-12-31 21:30:00</th>\n",
       "      <td>1.1212</td>\n",
       "      <td>-0.0003</td>\n",
       "      <td>-2.2293e-05</td>\n",
       "      <td>0.0005</td>\n",
       "      <td>5.7777e-06</td>\n",
       "    </tr>\n",
       "    <tr>\n",
       "      <th>2019-12-31 22:00:00</th>\n",
       "      <td>1.1208</td>\n",
       "      <td>-0.0004</td>\n",
       "      <td>-8.9142e-05</td>\n",
       "      <td>0.0004</td>\n",
       "      <td>1.7726e-05</td>\n",
       "    </tr>\n",
       "    <tr>\n",
       "      <th>2019-12-31 22:30:00</th>\n",
       "      <td>1.1211</td>\n",
       "      <td>0.0003</td>\n",
       "      <td>-7.1308e-05</td>\n",
       "      <td>0.0004</td>\n",
       "      <td>-3.0243e-05</td>\n",
       "    </tr>\n",
       "    <tr>\n",
       "      <th>2019-12-31 23:00:00</th>\n",
       "      <td>1.1211</td>\n",
       "      <td>0.0000</td>\n",
       "      <td>-8.0214e-05</td>\n",
       "      <td>0.0004</td>\n",
       "      <td>-4.6395e-05</td>\n",
       "    </tr>\n",
       "    <tr>\n",
       "      <th>2019-12-31 23:30:00</th>\n",
       "      <td>1.1211</td>\n",
       "      <td>0.0000</td>\n",
       "      <td>-8.0214e-05</td>\n",
       "      <td>0.0004</td>\n",
       "      <td>-7.2116e-05</td>\n",
       "    </tr>\n",
       "  </tbody>\n",
       "</table>\n",
       "</div>\n",
       "      <button class=\"colab-df-convert\" onclick=\"convertToInteractive('df-3e6728c3-ca50-4dc1-b2e8-12dac7f26eca')\"\n",
       "              title=\"Convert this dataframe to an interactive table.\"\n",
       "              style=\"display:none;\">\n",
       "        \n",
       "  <svg xmlns=\"http://www.w3.org/2000/svg\" height=\"24px\"viewBox=\"0 0 24 24\"\n",
       "       width=\"24px\">\n",
       "    <path d=\"M0 0h24v24H0V0z\" fill=\"none\"/>\n",
       "    <path d=\"M18.56 5.44l.94 2.06.94-2.06 2.06-.94-2.06-.94-.94-2.06-.94 2.06-2.06.94zm-11 1L8.5 8.5l.94-2.06 2.06-.94-2.06-.94L8.5 2.5l-.94 2.06-2.06.94zm10 10l.94 2.06.94-2.06 2.06-.94-2.06-.94-.94-2.06-.94 2.06-2.06.94z\"/><path d=\"M17.41 7.96l-1.37-1.37c-.4-.4-.92-.59-1.43-.59-.52 0-1.04.2-1.43.59L10.3 9.45l-7.72 7.72c-.78.78-.78 2.05 0 2.83L4 21.41c.39.39.9.59 1.41.59.51 0 1.02-.2 1.41-.59l7.78-7.78 2.81-2.81c.8-.78.8-2.07 0-2.86zM5.41 20L4 18.59l7.72-7.72 1.47 1.35L5.41 20z\"/>\n",
       "  </svg>\n",
       "      </button>\n",
       "      \n",
       "  <style>\n",
       "    .colab-df-container {\n",
       "      display:flex;\n",
       "      flex-wrap:wrap;\n",
       "      gap: 12px;\n",
       "    }\n",
       "\n",
       "    .colab-df-convert {\n",
       "      background-color: #E8F0FE;\n",
       "      border: none;\n",
       "      border-radius: 50%;\n",
       "      cursor: pointer;\n",
       "      display: none;\n",
       "      fill: #1967D2;\n",
       "      height: 32px;\n",
       "      padding: 0 0 0 0;\n",
       "      width: 32px;\n",
       "    }\n",
       "\n",
       "    .colab-df-convert:hover {\n",
       "      background-color: #E2EBFA;\n",
       "      box-shadow: 0px 1px 2px rgba(60, 64, 67, 0.3), 0px 1px 3px 1px rgba(60, 64, 67, 0.15);\n",
       "      fill: #174EA6;\n",
       "    }\n",
       "\n",
       "    [theme=dark] .colab-df-convert {\n",
       "      background-color: #3B4455;\n",
       "      fill: #D2E3FC;\n",
       "    }\n",
       "\n",
       "    [theme=dark] .colab-df-convert:hover {\n",
       "      background-color: #434B5C;\n",
       "      box-shadow: 0px 1px 3px 1px rgba(0, 0, 0, 0.15);\n",
       "      filter: drop-shadow(0px 1px 2px rgba(0, 0, 0, 0.3));\n",
       "      fill: #FFFFFF;\n",
       "    }\n",
       "  </style>\n",
       "\n",
       "      <script>\n",
       "        const buttonEl =\n",
       "          document.querySelector('#df-3e6728c3-ca50-4dc1-b2e8-12dac7f26eca button.colab-df-convert');\n",
       "        buttonEl.style.display =\n",
       "          google.colab.kernel.accessAllowed ? 'block' : 'none';\n",
       "\n",
       "        async function convertToInteractive(key) {\n",
       "          const element = document.querySelector('#df-3e6728c3-ca50-4dc1-b2e8-12dac7f26eca');\n",
       "          const dataTable =\n",
       "            await google.colab.kernel.invokeFunction('convertToInteractive',\n",
       "                                                     [key], {});\n",
       "          if (!dataTable) return;\n",
       "\n",
       "          const docLinkHtml = 'Like what you see? Visit the ' +\n",
       "            '<a target=\"_blank\" href=https://colab.research.google.com/notebooks/data_table.ipynb>data table notebook</a>'\n",
       "            + ' to learn more about interactive tables.';\n",
       "          element.innerHTML = '';\n",
       "          dataTable['output_type'] = 'display_data';\n",
       "          await google.colab.output.renderOutput(dataTable, element);\n",
       "          const docLink = document.createElement('div');\n",
       "          docLink.innerHTML = docLinkHtml;\n",
       "          element.appendChild(docLink);\n",
       "        }\n",
       "      </script>\n",
       "    </div>\n",
       "  </div>\n",
       "  "
      ],
      "text/plain": [
       "                     EUR_USD       r         mom     vol        pred\n",
       "Date                                                                \n",
       "2019-12-31 21:30:00   1.1212 -0.0003 -2.2293e-05  0.0005  5.7777e-06\n",
       "2019-12-31 22:00:00   1.1208 -0.0004 -8.9142e-05  0.0004  1.7726e-05\n",
       "2019-12-31 22:30:00   1.1211  0.0003 -7.1308e-05  0.0004 -3.0243e-05\n",
       "2019-12-31 23:00:00   1.1211  0.0000 -8.0214e-05  0.0004 -4.6395e-05\n",
       "2019-12-31 23:30:00   1.1211  0.0000 -8.0214e-05  0.0004 -7.2116e-05"
      ]
     },
     "execution_count": 107,
     "metadata": {},
     "output_type": "execute_result"
    }
   ],
   "source": [
    "y_f = model_f.predict(g_f_)\n",
    "\n",
    "# recover from the normalization\n",
    "y_f = (y_f.flatten()* f_train_vol['r'] ) + f_train_mu['r']\n",
    "print(y_f[:5])\n",
    "\n",
    "# add testing results to pred column\n",
    "data['pred'] = np.nan\n",
    "data['pred'].iloc[split+lags:] = y_f\n",
    "\n",
    "MSE = ((data.iloc[split+lags:]['r']-data.iloc[split+lags:]['pred'])**2).mean()\n",
    "print(f'RNN return Test MSE={MSE:.20f} ')\n",
    "\n",
    "data.tail()"
   ]
  },
  {
   "cell_type": "code",
   "execution_count": 108,
   "metadata": {
    "colab": {
     "base_uri": "https://localhost:8080/",
     "height": 408
    },
    "executionInfo": {
     "elapsed": 630,
     "status": "ok",
     "timestamp": 1674309417826,
     "user": {
      "displayName": "Yi Cao",
      "userId": "08364686972985899504"
     },
     "user_tz": 0
    },
    "id": "77ZrcUxR9Ogj",
    "outputId": "c6096832-2f2f-41b1-ed3b-62ebec0dc451"
   },
   "outputs": [
    {
     "data": {
      "image/png": "[encoded data removed]",
      "text/plain": [
       "<Figure size 720x432 with 1 Axes>"
      ]
     },
     "metadata": {
      "needs_background": "light"
     },
     "output_type": "display_data"
    }
   ],
   "source": [
    "# plot the last 100 items\n",
    "\n",
    "data[['r', 'pred']].iloc[-100:].plot(\n",
    "            figsize=(10, 6), style=['b', 'r-.'],\n",
    "            alpha=0.75);\n",
    "plt.axhline(0, c='grey', ls='--');"
   ]
  },
  {
   "cell_type": "markdown",
   "metadata": {
    "id": "o1hYqCJO7wVm"
   },
   "source": [
    "### Modelling by Deep RNN Model"
   ]
  },
  {
   "cell_type": "markdown",
   "metadata": {
    "id": "FwIyYWRZ7VYR"
   },
   "source": [
    "*   this example follows the prior \"Modelling Financial Features by RNN / LSTM\" example\n",
    "*   the constructed g_f is used for training, g_f_ is used for testing\n",
    "\n",
    "\n"
   ]
  },
  {
   "cell_type": "code",
   "execution_count": 109,
   "metadata": {
    "executionInfo": {
     "elapsed": 184,
     "status": "ok",
     "timestamp": 1674309433948,
     "user": {
      "displayName": "Yi Cao",
      "userId": "08364686972985899504"
     },
     "user_tz": 0
    },
    "id": "rDxxFwUBHWnV"
   },
   "outputs": [],
   "source": [
    "'''define deep RNN model with multiple hidden layers\n",
    "for the nonfinal hidden layers, the parameter return_sequences is set to True \n",
    "hl: number of hidden layers\n",
    "hu: number of hidden units\n",
    "'''\n",
    "from keras.layers import Dropout\n",
    "\n",
    "def create_deep_rnn_model(hl=2, hu=100, layer='SimpleRNN',\n",
    "                          optimizer='rmsprop', features=1,\n",
    "                          dropout=False, rate=0.3, seed=100):\n",
    "    if hl <= 2: hl = 2\n",
    "    if layer == 'SimpleRNN':\n",
    "        layer = SimpleRNN\n",
    "    else:\n",
    "        layer = LSTM\n",
    "    model = Sequential()\n",
    "    model.add(layer(hu, input_shape=(lags, features),\n",
    "                     return_sequences=True, ))\n",
    "    if dropout:\n",
    "        model.add(Dropout(rate, seed=seed))\n",
    "    for _ in range(2, hl):\n",
    "        model.add(layer(hu, return_sequences=True))\n",
    "        if dropout:\n",
    "            model.add(Dropout(rate, seed=seed))\n",
    "    model.add(layer(hu))\n",
    "    model.add(Dense(1, activation='linear'))\n",
    "\n",
    "    model.compile(optimizer='adam', loss='mse', metrics=['mae'])\n",
    "\n",
    "    # model.compile(optimizer=optimizer,\n",
    "    #               loss='binary_crossentropy',\n",
    "    #               metrics=['accuracy'])\n",
    "    return model"
   ]
  },
  {
   "cell_type": "code",
   "execution_count": 111,
   "metadata": {
    "colab": {
     "base_uri": "https://localhost:8080/"
    },
    "executionInfo": {
     "elapsed": 483,
     "status": "ok",
     "timestamp": 1674309450015,
     "user": {
      "displayName": "Yi Cao",
      "userId": "08364686972985899504"
     },
     "user_tz": 0
    },
    "id": "Ds7NyO1LHWnV",
    "outputId": "ac417605-8d02-424b-e2db-4e9b6cd1d758"
   },
   "outputs": [
    {
     "name": "stdout",
     "output_type": "stream",
     "text": [
      "Model: \"sequential_8\"\n",
      "_________________________________________________________________\n",
      " Layer (type)                Output Shape              Param #   \n",
      "=================================================================\n",
      " simple_rnn_9 (SimpleRNN)    (None, 3, 50)             2750      \n",
      "                                                                 \n",
      " dropout_1 (Dropout)         (None, 3, 50)             0         \n",
      "                                                                 \n",
      " simple_rnn_10 (SimpleRNN)   (None, 50)                5050      \n",
      "                                                                 \n",
      " dense_8 (Dense)             (None, 1)                 51        \n",
      "                                                                 \n",
      "=================================================================\n",
      "Total params: 7,851\n",
      "Trainable params: 7,851\n",
      "Non-trainable params: 0\n",
      "_________________________________________________________________\n"
     ]
    }
   ],
   "source": [
    "set_seeds()\n",
    "model_deep = create_deep_rnn_model(\n",
    "              hl=2, \n",
    "              hu=50, layer='SimpleRNN',\n",
    "              features=len(f_train_data.columns), \n",
    "              dropout=True, rate=0.3) \n",
    "model_deep.summary()\n"
   ]
  },
  {
   "cell_type": "code",
   "execution_count": 116,
   "metadata": {
    "colab": {
     "base_uri": "https://localhost:8080/"
    },
    "executionInfo": {
     "elapsed": 890644,
     "status": "ok",
     "timestamp": 1674318510009,
     "user": {
      "displayName": "Yi Cao",
      "userId": "08364686972985899504"
     },
     "user_tz": 0
    },
    "id": "yTiBZdWCHWnV",
    "outputId": "825ffc09-ed0e-4429-e39b-8bd5a962d60b"
   },
   "outputs": [
    {
     "name": "stdout",
     "output_type": "stream",
     "text": [
      "CPU times: user 13min 16s, sys: 38.7 s, total: 13min 54s\n",
      "Wall time: 14min 50s\n"
     ]
    },
    {
     "data": {
      "text/plain": [
       "<keras.callbacks.History at 0x7f4a4b9d9370>"
      ]
     },
     "execution_count": 116,
     "metadata": {},
     "output_type": "execute_result"
    }
   ],
   "source": [
    "# training takes long time... around 15 mins\n",
    "\n",
    "%%time\n",
    "model_deep.fit(g_f, epochs=100,  verbose=False)"
   ]
  },
  {
   "cell_type": "code",
   "execution_count": 117,
   "metadata": {
    "colab": {
     "base_uri": "https://localhost:8080/"
    },
    "executionInfo": {
     "elapsed": 2103,
     "status": "ok",
     "timestamp": 1674318617664,
     "user": {
      "displayName": "Yi Cao",
      "userId": "08364686972985899504"
     },
     "user_tz": 0
    },
    "id": "1nQhmAoOdxQi",
    "outputId": "10a89820-5461-467d-b95a-06a44ee81fe5"
   },
   "outputs": [
    {
     "name": "stdout",
     "output_type": "stream",
     "text": [
      "658/658 [==============================] - 2s 3ms/step\n",
      "Deep RNN return Test MSE=0.00000015675648289692 \n"
     ]
    }
   ],
   "source": [
    "y_deep = model_deep.predict(g_f_)\n",
    "\n",
    "# recover from the normalization\n",
    "y_deep = (y_deep.flatten()* f_train_vol['r'] ) + f_train_mu['r']\n",
    "\n",
    "# add column of prediction\n",
    "result_deep = data[['r']].copy()\n",
    "result_deep['pred'] = np.nan\n",
    "result_deep['pred'].iloc[split+lags:] = y_deep\n",
    "\n",
    "MSE = ((result_deep.iloc[split+lags:]['r']-result_deep.iloc[split+lags:]['pred'])**2).mean()\n",
    "print(f'Deep RNN return Test MSE={MSE:.20f} ')"
   ]
  },
  {
   "cell_type": "code",
   "execution_count": 118,
   "metadata": {
    "colab": {
     "base_uri": "https://localhost:8080/",
     "height": 404
    },
    "executionInfo": {
     "elapsed": 689,
     "status": "ok",
     "timestamp": 1674318621511,
     "user": {
      "displayName": "Yi Cao",
      "userId": "08364686972985899504"
     },
     "user_tz": 0
    },
    "id": "R_Vl10TKgB7v",
    "outputId": "e3d07dc4-5729-4747-c371-0323f70c34ca"
   },
   "outputs": [
    {
     "data": {
      "image/png": "[encoded data removed]",
      "text/plain": [
       "<Figure size 720x432 with 1 Axes>"
      ]
     },
     "metadata": {
      "needs_background": "light"
     },
     "output_type": "display_data"
    }
   ],
   "source": [
    "# plot the last 200 items\n",
    "\n",
    "result_deep[['r', 'pred']].iloc[-200:].plot(\n",
    "            figsize=(10, 6), style=['b', 'r-.'],\n",
    "            alpha=0.75);\n",
    "plt.axhline(0, c='grey', ls='--');"
   ]
  }
 ],
 "metadata": {
  "colab": {
   "authorship_tag": "ABX9TyMDOcYy327uk0w5xaU7eELV",
   "provenance": []
  },
  "kernelspec": {
   "display_name": "Python 3 (ipykernel)",
   "language": "python",
   "name": "python3"
  },
  "language_info": {
   "codemirror_mode": {
    "name": "ipython",
    "version": 3
   },
   "file_extension": ".py",
   "mimetype": "text/x-python",
   "name": "python",
   "nbconvert_exporter": "python",
   "pygments_lexer": "ipython3",
   "version": "3.10.8"
  }
 },
 "nbformat": 4,
 "nbformat_minor": 1
}
